{
 "cells": [
  {
   "cell_type": "markdown",
   "id": "55eff006",
   "metadata": {},
   "source": [
    "<div style=\"border:solid lightblue 2px; padding: 20px\">\n",
    "\n",
    "<b>Данила, привет!</b>\n",
    "\n",
    "Меня зовут Олег Пыхалов, и я буду проверять твой проект. \n",
    "Предлагаю общаться на «ты» 😉 Но если это не удобно - дай знать, и мы перейдем на \"вы\".\n",
    "\n",
    "Моя основная цель — не указать на совершенные тобою ошибки, а поделиться своим опытом и помочь тебе стать аналитиком данных. Тобой уже проделана большая работа над проектом, но давай сделаем его еще лучше. Ниже ты найдешь мои комментарии - пожалуйста, не перемещай, не изменяй и не удаляй их. Я буду использовать цветовую разметку:\n",
    "\n",
    "<div class=\"alert alert-danger\">\n",
    "<b>Комментарий ревьюера ❌:</b> Так выделены самые важные замечания. Без их отработки проект не будет принят. </div>\n",
    "\n",
    "<div class=\"alert alert-warning\">\n",
    "<b>Комментарий ревьюера ⚠️:</b> Так выделены небольшие замечания. Одна-два таких замечания в проекте допустимы, но если их будет больше - тебе будет необходимо внести исправления. Это как тестовое задание при приеме на работу: очень много мелких ошибок могут стать причиной отказа кандидату. \n",
    "\n",
    "</div>\n",
    "\n",
    "<div class=\"alert alert-success\">\n",
    "<b>Комментарий ревьюера ✅:</b> Так я выделяю все остальные комментарии.</div>\n",
    "\n",
    "Давай работать над проектом в диалоге: если ты что-то меняешь в проекте или отвечаешь на мои комменатри — пиши об этом. Мне будет легче отследить изменения, если ты выделишь свои комментарии:\n",
    "<div class=\"alert alert-info\"> <b>Комментарий студента:</b> Например, вот так.</div>\n",
    "\n",
    "Всё это поможет выполнить повторную проверку твоего проекта оперативнее.\n",
    "    "
   ]
  },
  {
   "cell_type": "markdown",
   "id": "a9d13372",
   "metadata": {},
   "source": [
    "<div class=\"alert alert-success\">\n",
    "<b>Комментарий ревьюера ✅:</b> \n",
    "    \n",
    "Твоя работа хорошая, нужно поправить несколько пунктов и тогда я смогу её принять, поехали!"
   ]
  },
  {
   "cell_type": "markdown",
   "id": "6968055b",
   "metadata": {},
   "source": [
    "<div class=\"alert alert-danger\">\n",
    "<b>Комментарий ревьюера ❌:</b> \n",
    "    \n",
    "Отсутствует название проекта, описание целей исследования\n",
    "</div>"
   ]
  },
  {
   "cell_type": "markdown",
   "id": "47fd88f4",
   "metadata": {},
   "source": [
    "<div class=\"alert alert-warning\">\n",
    "<b>Комментарий ревьюера ⚠️:</b> \n",
    "    \n",
    "Рекомендую поправить оглавление, напр. шаг загрузки сейчас записан как 0.0.1:)\n",
    "</div>"
   ]
  },
  {
   "cell_type": "markdown",
   "id": "771413c0",
   "metadata": {},
   "source": [
    "<div class=\"alert alert-info\"> <b>Комментарий студента:</b> Добавление названия проекта и описание целей исследования</div>"
   ]
  },
  {
   "cell_type": "markdown",
   "id": "99618eea",
   "metadata": {},
   "source": [
    "<div class=\"alert alert-success\">\n",
    "<b>Комментарий ревьюера ✅V2:</b> \n",
    "    \n",
    "Принято!"
   ]
  },
  {
   "cell_type": "markdown",
   "id": "53161e8d",
   "metadata": {},
   "source": [
    "\n",
    "# Анализ данных сервиса аренды самокатов GoFast\n",
    "\n",
    "**Описание и цели исследования**\n",
    "Цель данного проекта — провести всесторонний анализ данных, связанных с пользователями и их поездками на сервисе аренды самокатов GoFast, для выявления ключевых факторов, влияющих на выручку, и предложить рекомендации для увеличения числа пользователей с подпиской. В рамках исследования будут решены следующие задачи:\n",
    "\n",
    "1. **Изучение профилей пользователей:** Анализ демографических данных, таких как возраст, город проживания, и тип подписки.\n",
    "2. **Анализ поведения пользователей:** Исследование продолжительности и расстояний поездок, а также их распределение по разным группам пользователей.\n",
    "3. **Объединение данных:** Создание единого датафрейма, объединяющего информацию о пользователях, поездках и подписках.\n",
    "4. **Расчет выручки:** Агрегирование данных для расчета помесячной выручки от пользователей.\n",
    "5. **Проверка гипотез:** Оценка статистической значимости различий между пользователями с подпиской и без подписки по ключевым параметрам.\n",
    "\n",
    "Проект направлен на получение ценной информации, которая поможет в принятии решений по улучшению сервиса и увеличению доходности, а также на выявление ключевых моментов, способствующих росту числа пользователей с подпиской."
   ]
  },
  {
   "cell_type": "code",
   "execution_count": 1,
   "id": "72576667",
   "metadata": {},
   "outputs": [],
   "source": [
    "#подключение библиотек \n",
    "import pandas as pd\n",
    "import matplotlib.pyplot as plt\n",
    "import numpy as np\n",
    "from scipy import stats"
   ]
  },
  {
   "cell_type": "markdown",
   "id": "c42cbe00",
   "metadata": {},
   "source": [
    "## Шаг 1. Загрузка данных"
   ]
  },
  {
   "cell_type": "code",
   "execution_count": 2,
   "id": "eff9f206",
   "metadata": {},
   "outputs": [],
   "source": [
    "#Загрузка датасетов\n",
    "users = pd.read_csv(\"/datasets/users_go.csv\")\n",
    "rides = pd.read_csv(\"/datasets/rides_go.csv\")\n",
    "subscriptions = pd.read_csv(\"/datasets/subscriptions_go.csv\")"
   ]
  },
  {
   "cell_type": "markdown",
   "id": "74692870",
   "metadata": {},
   "source": [
    "Общая информация о датасете users_go"
   ]
  },
  {
   "cell_type": "code",
   "execution_count": 3,
   "id": "e3987ac8",
   "metadata": {},
   "outputs": [
    {
     "name": "stdout",
     "output_type": "stream",
     "text": [
      "   user_id        name  age            city subscription_type\n",
      "0        1        Кира   22          Тюмень             ultra\n",
      "1        2   Станислав   31            Омск             ultra\n",
      "2        3     Алексей   20          Москва             ultra\n",
      "3        4  Константин   26  Ростов-на-Дону             ultra\n",
      "4        5       Адель   28            Омск             ultra\n",
      "5        6      Регина   25       Краснодар             ultra\n",
      "6        7       Игорь   23            Омск             ultra\n",
      "7        8        Юрий   23       Краснодар             ultra\n",
      "8        9          Ян   21       Пятигорск             ultra\n",
      "9       10     Валерий   18    Екатеринбург             ultra\n",
      "<class 'pandas.core.frame.DataFrame'>\n",
      "RangeIndex: 1565 entries, 0 to 1564\n",
      "Data columns (total 5 columns):\n",
      " #   Column             Non-Null Count  Dtype \n",
      "---  ------             --------------  ----- \n",
      " 0   user_id            1565 non-null   int64 \n",
      " 1   name               1565 non-null   object\n",
      " 2   age                1565 non-null   int64 \n",
      " 3   city               1565 non-null   object\n",
      " 4   subscription_type  1565 non-null   object\n",
      "dtypes: int64(2), object(3)\n",
      "memory usage: 61.3+ KB\n"
     ]
    }
   ],
   "source": [
    "print(users.head(10))\n",
    "users.info()"
   ]
  },
  {
   "cell_type": "code",
   "execution_count": 4,
   "id": "c6a5c6e2",
   "metadata": {},
   "outputs": [
    {
     "data": {
      "text/plain": [
       "31"
      ]
     },
     "metadata": {},
     "output_type": "display_data"
    }
   ],
   "source": [
    "display(users.duplicated().sum())\n",
    "# в таблице users присутствуют дубликаты. Уберем их в следующем шаге"
   ]
  },
  {
   "cell_type": "markdown",
   "id": "d36ba358",
   "metadata": {},
   "source": [
    "Общая информация о датасете rides_go"
   ]
  },
  {
   "cell_type": "code",
   "execution_count": 5,
   "id": "9479ba74",
   "metadata": {},
   "outputs": [
    {
     "name": "stdout",
     "output_type": "stream",
     "text": [
      "   user_id     distance   duration        date\n",
      "0        1  4409.919140  25.599769  2021-01-01\n",
      "1        1  2617.592153  15.816871  2021-01-18\n",
      "2        1   754.159807   6.232113  2021-04-20\n",
      "3        1  2694.783254  18.511000  2021-08-11\n",
      "4        1  4028.687306  26.265803  2021-08-28\n",
      "5        1  2770.890808  16.650138  2021-10-09\n",
      "6        1  3039.020292  14.927879  2021-10-19\n",
      "7        1  2842.118050  23.117468  2021-11-06\n",
      "8        1  3412.690668  15.238072  2021-11-14\n",
      "9        1   748.690645  15.041884  2021-11-22\n",
      "<class 'pandas.core.frame.DataFrame'>\n",
      "RangeIndex: 18068 entries, 0 to 18067\n",
      "Data columns (total 4 columns):\n",
      " #   Column    Non-Null Count  Dtype  \n",
      "---  ------    --------------  -----  \n",
      " 0   user_id   18068 non-null  int64  \n",
      " 1   distance  18068 non-null  float64\n",
      " 2   duration  18068 non-null  float64\n",
      " 3   date      18068 non-null  object \n",
      "dtypes: float64(2), int64(1), object(1)\n",
      "memory usage: 564.8+ KB\n"
     ]
    }
   ],
   "source": [
    "print(rides.head(10))\n",
    "rides.info()"
   ]
  },
  {
   "cell_type": "code",
   "execution_count": 6,
   "id": "7eb2a729",
   "metadata": {},
   "outputs": [
    {
     "data": {
      "text/plain": [
       "0"
      ]
     },
     "metadata": {},
     "output_type": "display_data"
    }
   ],
   "source": [
    "display(rides.duplicated().sum())\n",
    "# тут нет дубликатов "
   ]
  },
  {
   "cell_type": "markdown",
   "id": "8f9d7fd2",
   "metadata": {},
   "source": [
    "Общая информация о датасете subscriptions_go"
   ]
  },
  {
   "cell_type": "code",
   "execution_count": 7,
   "id": "ad17059b",
   "metadata": {},
   "outputs": [
    {
     "name": "stdout",
     "output_type": "stream",
     "text": [
      "  subscription_type  minute_price  start_ride_price  subscription_fee\n",
      "0              free             8                50                 0\n",
      "1             ultra             6                 0               199\n",
      "<class 'pandas.core.frame.DataFrame'>\n",
      "RangeIndex: 2 entries, 0 to 1\n",
      "Data columns (total 4 columns):\n",
      " #   Column             Non-Null Count  Dtype \n",
      "---  ------             --------------  ----- \n",
      " 0   subscription_type  2 non-null      object\n",
      " 1   minute_price       2 non-null      int64 \n",
      " 2   start_ride_price   2 non-null      int64 \n",
      " 3   subscription_fee   2 non-null      int64 \n",
      "dtypes: int64(3), object(1)\n",
      "memory usage: 192.0+ bytes\n"
     ]
    }
   ],
   "source": [
    "print(subscriptions.head());\n",
    "subscriptions.info();"
   ]
  },
  {
   "cell_type": "markdown",
   "id": "32dd9402",
   "metadata": {},
   "source": [
    "<div class=\"alert alert-warning\">\n",
    "<b>Комментарий ревьюера ⚠️:</b>\n",
    "    \n",
    "Рекомендую посмотреть все датасеты и информацию о них в одной ячейке, печать лучше всего выывести через `display()`\n",
    "\n",
    "</div>"
   ]
  },
  {
   "cell_type": "markdown",
   "id": "9e1dcd94",
   "metadata": {},
   "source": [
    "Посмотрим на различные графики и гистограммы, чтобы лучше понимать с какими данными будем работать"
   ]
  },
  {
   "cell_type": "markdown",
   "id": "368898bb",
   "metadata": {},
   "source": [
    "<div class=\"alert alert-warning\">\n",
    "<b>Комментарий ревьюера ⚠️:</b>\n",
    "    \n",
    "Эти графики будут дополнены описательными статистиками метода `describe()` в **блоке исследовательского анализа**, рекомендую убрать их из этого блока\n",
    "\n",
    "</div>"
   ]
  },
  {
   "cell_type": "code",
   "execution_count": 8,
   "id": "7e695d49",
   "metadata": {},
   "outputs": [
    {
     "data": {
      "image/png": "[encoded data removed]",
      "text/plain": [
       "<Figure size 432x288 with 1 Axes>"
      ]
     },
     "metadata": {
      "needs_background": "light"
     },
     "output_type": "display_data"
    }
   ],
   "source": [
    "plt.hist(users['age'], bins = 10)\n",
    "plt.title('Возраст пользователей')\n",
    "plt.xlabel('Возраст')\n",
    "plt.ylabel('Количество пользователей')\n",
    "plt.grid()\n",
    "plt.show()"
   ]
  },
  {
   "cell_type": "code",
   "execution_count": 9,
   "id": "56eee3da",
   "metadata": {},
   "outputs": [
    {
     "data": {
      "image/png": "[encoded data removed]",
      "text/plain": [
       "<Figure size 576x576 with 1 Axes>"
      ]
     },
     "metadata": {},
     "output_type": "display_data"
    }
   ],
   "source": [
    "city_counts = users['city'].value_counts()\n",
    "plt.figure(figsize=(8, 8))\n",
    "plt.pie(city_counts, labels=city_counts.index, autopct='%1.1f%%', startangle=140)\n",
    "plt.title('Распределение пользователей по городам')\n",
    "plt.show()"
   ]
  },
  {
   "cell_type": "code",
   "execution_count": 10,
   "id": "dee032f1",
   "metadata": {},
   "outputs": [
    {
     "data": {
      "image/png": "[encoded data removed]",
      "text/plain": [
       "<Figure size 576x576 with 1 Axes>"
      ]
     },
     "metadata": {},
     "output_type": "display_data"
    }
   ],
   "source": [
    "sub_types = users['subscription_type'].value_counts()\n",
    "plt.figure(figsize=(8, 8))\n",
    "plt.pie(sub_types, labels=sub_types.index, autopct='%1.1f%%', startangle=140)\n",
    "plt.title('Распределение пользователей по наличию подписки')\n",
    "plt.show()"
   ]
  },
  {
   "cell_type": "code",
   "execution_count": 11,
   "id": "f12ed98d",
   "metadata": {},
   "outputs": [
    {
     "data": {
      "image/png": "[encoded data removed]",
      "text/plain": [
       "<Figure size 720x432 with 1 Axes>"
      ]
     },
     "metadata": {
      "needs_background": "light"
     },
     "output_type": "display_data"
    }
   ],
   "source": [
    "plt.figure(figsize=(10, 6))\n",
    "plt.hist(rides['distance'], bins=20)\n",
    "plt.title('Распределение поездок по расстоянию')\n",
    "plt.xlabel('Расстояние (метры)')\n",
    "plt.ylabel('Количество поездок')\n",
    "plt.grid(True)\n",
    "plt.show()\n"
   ]
  },
  {
   "cell_type": "code",
   "execution_count": 12,
   "id": "a961fa78",
   "metadata": {},
   "outputs": [
    {
     "data": {
      "image/png": "[encoded data removed]",
      "text/plain": [
       "<Figure size 720x432 with 1 Axes>"
      ]
     },
     "metadata": {
      "needs_background": "light"
     },
     "output_type": "display_data"
    }
   ],
   "source": [
    "plt.figure(figsize=(10, 6))\n",
    "plt.hist(rides['duration'], bins=25)\n",
    "plt.title('Распределение поездок по продолжительности')\n",
    "plt.xlabel('Продолжительность (минуты)')\n",
    "plt.ylabel('Количество поездок')\n",
    "plt.grid(True)\n",
    "plt.show()"
   ]
  },
  {
   "cell_type": "markdown",
   "id": "b5519a59",
   "metadata": {},
   "source": [
    "<div class=\"alert alert-danger\">\n",
    "<b>Комментарий ревьюера ❌:</b> \n",
    "    \n",
    "Отсутствует промежуточный вывод на блоке загрузки данных\n",
    "</div>"
   ]
  },
  {
   "cell_type": "markdown",
   "id": "1dbf5c0e",
   "metadata": {},
   "source": [
    "<div class=\"alert alert-info\"> <b>Комментарий студента:</b> Добавление промежуточного вывода</div>"
   ]
  },
  {
   "cell_type": "markdown",
   "id": "d91eb1a0",
   "metadata": {},
   "source": [
    "<div class=\"alert alert-success\">\n",
    "<b>Комментарий ревьюера ✅V2:</b> \n",
    "    \n",
    "Хорошо, принято"
   ]
  },
  {
   "cell_type": "markdown",
   "id": "28fba735",
   "metadata": {},
   "source": [
    "### Промежуточный вывод по загрузке данных:\n",
    "\n",
    "В результате загрузки данных были получены три датафрейма:\n",
    "\n",
    "1. **Таблица `users`** содержит информацию о 1565 пользователях. В таблице представлены данные о возрастах пользователей, их именах, городах проживания и типах подписок. Пропущенных значений в таблице нет. Однако, обнаружены 31 дублирующаяся запись, которые будут удалены на следующем шаге.\n",
    "\n",
    "2. **Таблица `rides`** включает информацию о 18068 поездках. В ней содержатся данные о пользователях, расстояниях поездок, их продолжительности, а также даты поездок. Пропущенных значений в таблице нет.\n",
    "\n",
    "3. **Таблица `subscriptions`** содержит данные о типах подписок, стоимости минуты поездки, стоимости старта поездки и абонентской плате. Таблица содержит всего 2 строки, представляющие разные типы подписок.\n",
    "\n",
    "Эти данные будут использоваться для анализа поведения пользователей, их поездок и для расчета выручки сервиса."
   ]
  },
  {
   "cell_type": "markdown",
   "id": "e95ebca7",
   "metadata": {},
   "source": [
    "## Шаг 2. Предобработка данных"
   ]
  },
  {
   "cell_type": "markdown",
   "id": "5a699414",
   "metadata": {},
   "source": [
    "Предобработка таблицы users. Проверим дубликаты и пропуски"
   ]
  },
  {
   "cell_type": "code",
   "execution_count": 13,
   "id": "9ace34a6",
   "metadata": {},
   "outputs": [
    {
     "data": {
      "text/plain": [
       "user_id              0\n",
       "name                 0\n",
       "age                  0\n",
       "city                 0\n",
       "subscription_type    0\n",
       "dtype: int64"
      ]
     },
     "execution_count": 13,
     "metadata": {},
     "output_type": "execute_result"
    }
   ],
   "source": [
    "users.isna().sum()"
   ]
  },
  {
   "cell_type": "code",
   "execution_count": 14,
   "id": "61eb0f5b",
   "metadata": {},
   "outputs": [
    {
     "data": {
      "text/plain": [
       "31"
      ]
     },
     "execution_count": 14,
     "metadata": {},
     "output_type": "execute_result"
    }
   ],
   "source": [
    "# пропусков нет, теперь посмотрим на дубликаты\n",
    "users.duplicated().sum()"
   ]
  },
  {
   "cell_type": "code",
   "execution_count": 15,
   "id": "af6d202c",
   "metadata": {},
   "outputs": [
    {
     "data": {
      "text/plain": [
       "0"
      ]
     },
     "execution_count": 15,
     "metadata": {},
     "output_type": "execute_result"
    }
   ],
   "source": [
    "#в таблице 31 строка с дубликатами, удалим их и сбросим индексы.\n",
    "users = users.drop_duplicates()\n",
    "users = users.reset_index(drop=True)\n",
    "#проверка на дубликаты \n",
    "users.duplicated().sum()"
   ]
  },
  {
   "cell_type": "markdown",
   "id": "0a8b72bb",
   "metadata": {},
   "source": [
    "Предобработка таблицы rides. Проверим дубликаты и пропуски, так же приведем столбик date к нужному типу данных"
   ]
  },
  {
   "cell_type": "code",
   "execution_count": 16,
   "id": "7d8ec0b7",
   "metadata": {},
   "outputs": [
    {
     "data": {
      "text/plain": [
       "user_id     0\n",
       "distance    0\n",
       "duration    0\n",
       "date        0\n",
       "dtype: int64"
      ]
     },
     "execution_count": 16,
     "metadata": {},
     "output_type": "execute_result"
    }
   ],
   "source": [
    "rides.isna().sum()"
   ]
  },
  {
   "cell_type": "code",
   "execution_count": 17,
   "id": "ac506d2a",
   "metadata": {},
   "outputs": [
    {
     "data": {
      "text/plain": [
       "0"
      ]
     },
     "execution_count": 17,
     "metadata": {},
     "output_type": "execute_result"
    }
   ],
   "source": [
    "# пропусков нет, теперь посмотрим на дубликаты\n",
    "rides.duplicated().sum()"
   ]
  },
  {
   "cell_type": "code",
   "execution_count": 18,
   "id": "2316ea9a",
   "metadata": {},
   "outputs": [
    {
     "name": "stdout",
     "output_type": "stream",
     "text": [
      "<class 'pandas.core.frame.DataFrame'>\n",
      "RangeIndex: 18068 entries, 0 to 18067\n",
      "Data columns (total 4 columns):\n",
      " #   Column    Non-Null Count  Dtype         \n",
      "---  ------    --------------  -----         \n",
      " 0   user_id   18068 non-null  int64         \n",
      " 1   distance  18068 non-null  float64       \n",
      " 2   duration  18068 non-null  float64       \n",
      " 3   date      18068 non-null  datetime64[ns]\n",
      "dtypes: datetime64[ns](1), float64(2), int64(1)\n",
      "memory usage: 564.8 KB\n",
      "None\n"
     ]
    }
   ],
   "source": [
    "#дубликатов и пропусков нет. Осталось поменять тип данных у столбца date\n",
    "rides['date'] = pd.to_datetime(rides['date'], format='%Y-%m-%d')\n",
    "print(rides.info())"
   ]
  },
  {
   "cell_type": "code",
   "execution_count": 19,
   "id": "e6c85c32",
   "metadata": {},
   "outputs": [
    {
     "name": "stdout",
     "output_type": "stream",
     "text": [
      "   user_id     distance   duration       date  month\n",
      "0        1  4409.919140  25.599769 2021-01-01      1\n",
      "1        1  2617.592153  15.816871 2021-01-18      1\n",
      "2        1   754.159807   6.232113 2021-04-20      4\n",
      "3        1  2694.783254  18.511000 2021-08-11      8\n",
      "4        1  4028.687306  26.265803 2021-08-28      8\n"
     ]
    }
   ],
   "source": [
    "# создание столбца с месяцем\n",
    "rides['month'] = rides['date'].dt.month\n",
    "print(rides.head())"
   ]
  },
  {
   "cell_type": "markdown",
   "id": "edb356e5",
   "metadata": {},
   "source": [
    "<div class=\"alert alert-success\">\n",
    "\n",
    "<b>Комментарий ревьюера ✅ :</b>\n",
    "\n",
    "Круто что делаешь проверку по данным после изменения, это хорошая практика"
   ]
  },
  {
   "cell_type": "markdown",
   "id": "d3bdc142",
   "metadata": {},
   "source": [
    "**Краткий итог по предобработке данных:**\n",
    "\n",
    "В ходе предобработки данных были выполнены следующие шаги:\n",
    "\n",
    "1. **Таблица `users`:**\n",
    "   - Пропуски: Пропущенные значения отсутствуют во всех столбцах.\n",
    "   - Дубликаты: Обнаружено 31 дублирующаяся строка, которые были удалены. После удаления индексы сброшены.\n",
    "\n",
    "2. **Таблица `rides`:**\n",
    "   - Пропуски: Пропущенные значения отсутствуют во всех столбцах.\n",
    "   - Дубликаты: Дублирующиеся строки отсутствуют.\n",
    "   - Типы данных: Столбец `date` был приведен к типу данных `datetime`.\n",
    "   - Новый столбец: Создан новый столбец `month`, в котором хранится месяц поездки.\n",
    "\n",
    "3. **Таблица `subscriptions`:**\n",
    "   - Таблица содержит информацию о подписках и не требует предобработки.\n",
    "\n"
   ]
  },
  {
   "cell_type": "markdown",
   "id": "212593c7",
   "metadata": {},
   "source": [
    "## Шаг 3. Исследовательский анализ данных"
   ]
  },
  {
   "cell_type": "markdown",
   "id": "5ce8bf2b",
   "metadata": {},
   "source": [
    "**3.1 Частота встречаемости городов**"
   ]
  },
  {
   "cell_type": "code",
   "execution_count": 20,
   "id": "b5883429",
   "metadata": {},
   "outputs": [
    {
     "data": {
      "image/png": "[encoded data removed]",
      "text/plain": [
       "<Figure size 576x576 with 1 Axes>"
      ]
     },
     "metadata": {},
     "output_type": "display_data"
    }
   ],
   "source": [
    "city_counts = users['city'].value_counts()\n",
    "plt.figure(figsize=(8, 8))\n",
    "plt.pie(city_counts, labels=city_counts.index, autopct='%1.1f%%', startangle=140)\n",
    "plt.title('Распределение пользователей по городам')\n",
    "plt.show()"
   ]
  },
  {
   "cell_type": "markdown",
   "id": "2690028e",
   "metadata": {},
   "source": [
    "<div class=\"alert alert-warning\">\n",
    "<b>Комментарий ревьюера ⚠️:</b> \n",
    "\n",
    "Рекомендую пределать график:\n",
    "* Как думаешь, это лучший способ показать распределение данных по городам?\n",
    "* Нужно показать вывод числовых значений частотности городов (% соотношение не так явно демонстрирует картину)\n",
    "</div>"
   ]
  },
  {
   "cell_type": "markdown",
   "id": "159ef96e",
   "metadata": {},
   "source": [
    "Распределение пользователей по городам показало, что наибольшее количество пользователей сосредоточено в Пятигорске (14.3%), Екатеринбурге (13.3%) и Ростове-на-Дону (12.9%). Остальные города имеют примерно равное количество пользователей, без значительного преобладания какого-либо города. Это говорит о равномерной популярности сервиса в нескольких крупных городах."
   ]
  },
  {
   "cell_type": "markdown",
   "id": "e60b9926",
   "metadata": {},
   "source": [
    "**3.2 Соотношение пользователей с подпиской и без подписки**"
   ]
  },
  {
   "cell_type": "code",
   "execution_count": 21,
   "id": "7bdc37ad",
   "metadata": {},
   "outputs": [
    {
     "data": {
      "image/png": "[encoded data removed]",
      "text/plain": [
       "<Figure size 576x576 with 1 Axes>"
      ]
     },
     "metadata": {},
     "output_type": "display_data"
    },
    {
     "data": {
      "text/plain": [
       "free     835\n",
       "ultra    699\n",
       "Name: subscription_type, dtype: int64"
      ]
     },
     "execution_count": 21,
     "metadata": {},
     "output_type": "execute_result"
    }
   ],
   "source": [
    "sub_types = users['subscription_type'].value_counts()\n",
    "plt.figure(figsize=(8, 8))\n",
    "plt.pie(sub_types, labels=sub_types.index, autopct='%1.1f%%', startangle=140)\n",
    "plt.title('Распределение пользователей по наличию подписки')\n",
    "plt.show()\n",
    "users['subscription_type'].value_counts()"
   ]
  },
  {
   "cell_type": "markdown",
   "id": "b03c6558",
   "metadata": {},
   "source": [
    "Распределение пользователей по городам показало, что  количество пользователей с подпиской 45.6%(699), без подписки 54.4(835)"
   ]
  },
  {
   "cell_type": "markdown",
   "id": "5d17d31f",
   "metadata": {},
   "source": [
    "<div class=\"alert alert-success\">\n",
    "\n",
    "<b>Комментарий ревьюера ✅ :</b>\n",
    "\n",
    "Полностью согласен!"
   ]
  },
  {
   "cell_type": "markdown",
   "id": "2381c16b",
   "metadata": {},
   "source": [
    "**3.3 Возраст пользователей**"
   ]
  },
  {
   "cell_type": "code",
   "execution_count": 22,
   "id": "0d29edb3",
   "metadata": {},
   "outputs": [
    {
     "data": {
      "image/png": "[encoded data removed]",
      "text/plain": [
       "<Figure size 720x432 with 1 Axes>"
      ]
     },
     "metadata": {
      "needs_background": "light"
     },
     "output_type": "display_data"
    },
    {
     "data": {
      "text/plain": [
       "count    1534.000000\n",
       "mean       24.903520\n",
       "std         4.572367\n",
       "min        12.000000\n",
       "25%        22.000000\n",
       "50%        25.000000\n",
       "75%        28.000000\n",
       "max        43.000000\n",
       "Name: age, dtype: float64"
      ]
     },
     "execution_count": 22,
     "metadata": {},
     "output_type": "execute_result"
    }
   ],
   "source": [
    "plt.figure(figsize=(10, 6))\n",
    "plt.hist(users['age'], bins = 10)\n",
    "plt.title('Возраст пользователей')\n",
    "plt.xlabel('Возраст')\n",
    "plt.ylabel('Количество пользователей')\n",
    "plt.grid()\n",
    "plt.show()\n",
    "users['age'].describe()"
   ]
  },
  {
   "cell_type": "markdown",
   "id": "d34bb62f",
   "metadata": {},
   "source": [
    "<div class=\"alert alert-warning\">\n",
    "<b>Комментарий ревьюера ⚠️:</b> \n",
    "\n",
    "График хороший, можно сделать лучше за счет увеличения корзин :)\n",
    "</div>"
   ]
  },
  {
   "cell_type": "markdown",
   "id": "19adff61",
   "metadata": {},
   "source": [
    "Распределение возрастов пользователей показало, что средний возраст составляет 24.9 года, а медианное значение — 25 лет. Большинство пользователей находятся в возрасте от 22 до 28 лет, с минимальным возрастом 12 лет и максимальным 43 года."
   ]
  },
  {
   "cell_type": "markdown",
   "id": "cb6afb38",
   "metadata": {},
   "source": [
    "<div class=\"alert alert-success\">\n",
    "\n",
    "<b>Комментарий ревьюера ✅:</b>\n",
    "\n",
    "Здорово что обращаешь внимание на среднее и медианное значение.\n",
    "    \n",
    "Они примерно равны благодаря отсутсвию выборосов"
   ]
  },
  {
   "cell_type": "markdown",
   "id": "9758a5a0",
   "metadata": {},
   "source": [
    "**3.4 Расстояние, которое пользователь преодолел за одну поездку**"
   ]
  },
  {
   "cell_type": "code",
   "execution_count": 23,
   "id": "ebd94df8",
   "metadata": {},
   "outputs": [
    {
     "data": {
      "image/png": "[encoded data removed]",
      "text/plain": [
       "<Figure size 720x432 with 1 Axes>"
      ]
     },
     "metadata": {
      "needs_background": "light"
     },
     "output_type": "display_data"
    },
    {
     "data": {
      "text/plain": [
       "count    18068.000000\n",
       "mean      3070.659976\n",
       "std       1116.831209\n",
       "min          0.855683\n",
       "25%       2543.226360\n",
       "50%       3133.609994\n",
       "75%       3776.222735\n",
       "max       7211.007745\n",
       "Name: distance, dtype: float64"
      ]
     },
     "execution_count": 23,
     "metadata": {},
     "output_type": "execute_result"
    }
   ],
   "source": [
    "plt.figure(figsize=(10, 6))\n",
    "plt.hist(rides['distance'], bins=20)\n",
    "plt.title('Распределение поездок по расстоянию')\n",
    "plt.xlabel('Расстояние (метры)')\n",
    "plt.ylabel('Количество поездок')\n",
    "plt.grid(True)\n",
    "plt.show()\n",
    "rides['distance'].describe()"
   ]
  },
  {
   "cell_type": "markdown",
   "id": "eb9c3925",
   "metadata": {},
   "source": [
    "Распределение расстояний, преодоленных пользователями за одну поездку, показало, что среднее значение составляет около 3070 метров, а медианное значение — 3134 метра. Большинство поездок охватывают расстояние от 2543 до 3776 метров, что соответствует первому и третьему квартилям. Максимальное зафиксированное расстояние — 7211 метров."
   ]
  },
  {
   "cell_type": "markdown",
   "id": "85f8cc1f",
   "metadata": {},
   "source": [
    "<div class=\"alert alert-warning\">\n",
    "<b>Комментарий ревьюера ⚠️:</b>\n",
    "    \n",
    "Обрати внимание на 2 пика распределения\n",
    "\n",
    "\n",
    "</div>"
   ]
  },
  {
   "cell_type": "markdown",
   "id": "fad77b04",
   "metadata": {},
   "source": [
    "**3.5 Продолжительность поездок**"
   ]
  },
  {
   "cell_type": "code",
   "execution_count": 24,
   "id": "e003a14a",
   "metadata": {},
   "outputs": [
    {
     "data": {
      "image/png": "[encoded data removed]",
      "text/plain": [
       "<Figure size 720x432 with 1 Axes>"
      ]
     },
     "metadata": {
      "needs_background": "light"
     },
     "output_type": "display_data"
    },
    {
     "data": {
      "text/plain": [
       "count    18068.000000\n",
       "mean        17.805011\n",
       "std          6.091051\n",
       "min          0.500000\n",
       "25%         13.597563\n",
       "50%         17.678395\n",
       "75%         21.724800\n",
       "max         40.823963\n",
       "Name: duration, dtype: float64"
      ]
     },
     "execution_count": 24,
     "metadata": {},
     "output_type": "execute_result"
    }
   ],
   "source": [
    "plt.figure(figsize=(10, 6))\n",
    "plt.hist(rides['duration'], bins=25)\n",
    "plt.title('Распределение поездок по продолжительности')\n",
    "plt.xlabel('Продолжительность (минуты)')\n",
    "plt.ylabel('Количество поездок')\n",
    "plt.grid(True)\n",
    "plt.show()\n",
    "rides['duration'].describe()"
   ]
  },
  {
   "cell_type": "markdown",
   "id": "6df09ea0",
   "metadata": {},
   "source": [
    "Распределение продолжительности поездок показало, что средняя продолжительность составляет около 17.8 минут, а медианное значение — 17.7 минут. Большинство поездок длится от 13.6 до 21.7 минут, что соответствует первому и третьему квартилям. Максимальная продолжительность одной поездки составила 40.8 минут. При этом на графике видны аномалии — присутствуют значения, близкие к нулю."
   ]
  },
  {
   "cell_type": "markdown",
   "id": "f2111f34",
   "metadata": {},
   "source": [
    "<div class=\"alert alert-success\">\n",
    "\n",
    "<b>Комментарий ревьюера ✅:</b>\n",
    "\n",
    "Круто что заметил короткие поездки тоже!\n",
    "    \n",
    "Как думаешь, откуда они появились?\n",
    "    \n",
    "Попробуй изменить график выше так, чтобы они стали заметнее "
   ]
  },
  {
   "cell_type": "markdown",
   "id": "2eaa9511",
   "metadata": {},
   "source": [
    "**Итог по исследовательскому анализу данных:**\n",
    "\n",
    "1. **Распределение пользователей по городам**: Наибольшее количество пользователей сосредоточено в Пятигорске (14.3%), Екатеринбурге (13.3%) и Ростове-на-Дону (12.9%). Остальные города имеют примерно равное количество пользователей, что указывает на равномерную популярность сервиса в нескольких крупных городах.\n",
    "\n",
    "2. **Соотношение пользователей с подпиской и без подписки**: Пользователи без подписки составляют 54.4% (835 человек), тогда как 45.6% (699 человек) имеют подписку. Это говорит о том, что большинство пользователей предпочитают использовать сервис без подписки.\n",
    "\n",
    "3. **Возраст пользователей**: Средний возраст пользователей составляет 24.9 года, а медианное значение — 25 лет. Большинство пользователей находятся в возрастной группе от 22 до 28 лет. Минимальный возраст — 12 лет, максимальный — 43 года.\n",
    "\n",
    "4. **Расстояние поездок**: Среднее расстояние, преодолеваемое за одну поездку, составляет около 3070 метров, медианное — 3134 метра. Большинство поездок покрывают расстояние от 2543 до 3776 метров, что соответствует первому и третьему квартилям. Максимальное расстояние — 7211 метров.\n",
    "\n",
    "5. **Продолжительность поездок**: Средняя продолжительность поездок составляет около 17.8 минут, а медианное значение — 17.7 минут. Большинство поездок длятся от 13.6 до 21.7 минут. Однако на графике видны аномалии — некоторые значения близки к нулю, что может указывать на некорректные данные. \n"
   ]
  },
  {
   "cell_type": "markdown",
   "id": "b4633304",
   "metadata": {},
   "source": [
    "<div class=\"alert alert-success\">\n",
    "\n",
    "<b>Комментарий ревьюера ✅:</b>\n",
    "\n",
    "Описал хорошо, диапазоны можно округлить :)"
   ]
  },
  {
   "cell_type": "markdown",
   "id": "4ef51331",
   "metadata": {},
   "source": [
    "## Шаг 4. Объединение данных"
   ]
  },
  {
   "cell_type": "code",
   "execution_count": 25,
   "id": "6bf288b5",
   "metadata": {},
   "outputs": [
    {
     "data": {
      "text/html": [
       "<div>\n",
       "<style scoped>\n",
       "    .dataframe tbody tr th:only-of-type {\n",
       "        vertical-align: middle;\n",
       "    }\n",
       "\n",
       "    .dataframe tbody tr th {\n",
       "        vertical-align: top;\n",
       "    }\n",
       "\n",
       "    .dataframe thead th {\n",
       "        text-align: right;\n",
       "    }\n",
       "</style>\n",
       "<table border=\"1\" class=\"dataframe\">\n",
       "  <thead>\n",
       "    <tr style=\"text-align: right;\">\n",
       "      <th></th>\n",
       "      <th>user_id</th>\n",
       "      <th>distance</th>\n",
       "      <th>duration</th>\n",
       "      <th>date</th>\n",
       "      <th>month</th>\n",
       "      <th>name</th>\n",
       "      <th>age</th>\n",
       "      <th>city</th>\n",
       "      <th>subscription_type</th>\n",
       "      <th>minute_price</th>\n",
       "      <th>start_ride_price</th>\n",
       "      <th>subscription_fee</th>\n",
       "    </tr>\n",
       "  </thead>\n",
       "  <tbody>\n",
       "    <tr>\n",
       "      <th>0</th>\n",
       "      <td>1</td>\n",
       "      <td>4409.919140</td>\n",
       "      <td>25.599769</td>\n",
       "      <td>2021-01-01</td>\n",
       "      <td>1</td>\n",
       "      <td>Кира</td>\n",
       "      <td>22</td>\n",
       "      <td>Тюмень</td>\n",
       "      <td>ultra</td>\n",
       "      <td>6</td>\n",
       "      <td>0</td>\n",
       "      <td>199</td>\n",
       "    </tr>\n",
       "    <tr>\n",
       "      <th>1</th>\n",
       "      <td>1</td>\n",
       "      <td>2617.592153</td>\n",
       "      <td>15.816871</td>\n",
       "      <td>2021-01-18</td>\n",
       "      <td>1</td>\n",
       "      <td>Кира</td>\n",
       "      <td>22</td>\n",
       "      <td>Тюмень</td>\n",
       "      <td>ultra</td>\n",
       "      <td>6</td>\n",
       "      <td>0</td>\n",
       "      <td>199</td>\n",
       "    </tr>\n",
       "    <tr>\n",
       "      <th>2</th>\n",
       "      <td>1</td>\n",
       "      <td>754.159807</td>\n",
       "      <td>6.232113</td>\n",
       "      <td>2021-04-20</td>\n",
       "      <td>4</td>\n",
       "      <td>Кира</td>\n",
       "      <td>22</td>\n",
       "      <td>Тюмень</td>\n",
       "      <td>ultra</td>\n",
       "      <td>6</td>\n",
       "      <td>0</td>\n",
       "      <td>199</td>\n",
       "    </tr>\n",
       "    <tr>\n",
       "      <th>3</th>\n",
       "      <td>1</td>\n",
       "      <td>2694.783254</td>\n",
       "      <td>18.511000</td>\n",
       "      <td>2021-08-11</td>\n",
       "      <td>8</td>\n",
       "      <td>Кира</td>\n",
       "      <td>22</td>\n",
       "      <td>Тюмень</td>\n",
       "      <td>ultra</td>\n",
       "      <td>6</td>\n",
       "      <td>0</td>\n",
       "      <td>199</td>\n",
       "    </tr>\n",
       "    <tr>\n",
       "      <th>4</th>\n",
       "      <td>1</td>\n",
       "      <td>4028.687306</td>\n",
       "      <td>26.265803</td>\n",
       "      <td>2021-08-28</td>\n",
       "      <td>8</td>\n",
       "      <td>Кира</td>\n",
       "      <td>22</td>\n",
       "      <td>Тюмень</td>\n",
       "      <td>ultra</td>\n",
       "      <td>6</td>\n",
       "      <td>0</td>\n",
       "      <td>199</td>\n",
       "    </tr>\n",
       "  </tbody>\n",
       "</table>\n",
       "</div>"
      ],
      "text/plain": [
       "   user_id     distance   duration       date  month  name  age    city  \\\n",
       "0        1  4409.919140  25.599769 2021-01-01      1  Кира   22  Тюмень   \n",
       "1        1  2617.592153  15.816871 2021-01-18      1  Кира   22  Тюмень   \n",
       "2        1   754.159807   6.232113 2021-04-20      4  Кира   22  Тюмень   \n",
       "3        1  2694.783254  18.511000 2021-08-11      8  Кира   22  Тюмень   \n",
       "4        1  4028.687306  26.265803 2021-08-28      8  Кира   22  Тюмень   \n",
       "\n",
       "  subscription_type  minute_price  start_ride_price  subscription_fee  \n",
       "0             ultra             6                 0               199  \n",
       "1             ultra             6                 0               199  \n",
       "2             ultra             6                 0               199  \n",
       "3             ultra             6                 0               199  \n",
       "4             ultra             6                 0               199  "
      ]
     },
     "execution_count": 25,
     "metadata": {},
     "output_type": "execute_result"
    }
   ],
   "source": [
    "# создам новый датафрейм, в котором будут включены все датасеты \n",
    "df = pd.merge(rides, users, on='user_id')\n",
    "df = pd.merge(df,subscriptions, on='subscription_type')\n",
    "df.head()"
   ]
  },
  {
   "cell_type": "code",
   "execution_count": 26,
   "id": "a37e8e7c",
   "metadata": {},
   "outputs": [
    {
     "name": "stdout",
     "output_type": "stream",
     "text": [
      "18068\n"
     ]
    }
   ],
   "source": [
    "#Объединение произошло успешно, в итоговом датафрейме 18068 строк\n",
    "print(df.shape[0])"
   ]
  },
  {
   "cell_type": "markdown",
   "id": "2ac1029b",
   "metadata": {},
   "source": [
    "<div class=\"alert alert-success\">\n",
    "<b>Комментарий ревьюера ✅:</b> \n",
    "    \n",
    "Молодчина что проверил размерность до и после объединения!"
   ]
  },
  {
   "cell_type": "markdown",
   "id": "658d45dc",
   "metadata": {},
   "source": [
    "<div class=\"alert alert-danger\">\n",
    "    \n",
    "<b>Комментарий ревьюера ❌:</b>\n",
    "    \n",
    "Нужно проверить объединённый датасет на пропуски\n",
    " </div>"
   ]
  },
  {
   "cell_type": "markdown",
   "id": "a70dab34",
   "metadata": {},
   "source": [
    "<div class=\"alert alert-info\"> <b>Комментарий студента:</b> Добавление проверки на пропуски</div>"
   ]
  },
  {
   "cell_type": "code",
   "execution_count": 27,
   "id": "b30d4974",
   "metadata": {},
   "outputs": [
    {
     "data": {
      "text/plain": [
       "user_id              0\n",
       "distance             0\n",
       "duration             0\n",
       "date                 0\n",
       "month                0\n",
       "name                 0\n",
       "age                  0\n",
       "city                 0\n",
       "subscription_type    0\n",
       "minute_price         0\n",
       "start_ride_price     0\n",
       "subscription_fee     0\n",
       "dtype: int64"
      ]
     },
     "execution_count": 27,
     "metadata": {},
     "output_type": "execute_result"
    }
   ],
   "source": [
    "df.isna().sum()\n",
    "# пропуски отсутствуют "
   ]
  },
  {
   "cell_type": "markdown",
   "id": "2d38abd6",
   "metadata": {},
   "source": [
    "<div class=\"alert alert-success\">\n",
    "<b>Комментарий ревьюера ✅V2:</b> \n",
    "    \n",
    "Принимаю)"
   ]
  },
  {
   "cell_type": "code",
   "execution_count": 28,
   "id": "1ab1731d",
   "metadata": {},
   "outputs": [],
   "source": [
    "#Создание новых датафреймов: с подпиской и без нее\n",
    "# Датафрейм с пользователями без подписки (free)\n",
    "df_free = df[df['subscription_type'] == 'free']\n",
    "\n",
    "# Датафрейм с пользователями с подпиской (ultra)\n",
    "df_ultra = df[df['subscription_type'] == 'ultra']"
   ]
  },
  {
   "cell_type": "code",
   "execution_count": 29,
   "id": "c66a2438",
   "metadata": {},
   "outputs": [
    {
     "data": {
      "text/plain": [
       "18068"
      ]
     },
     "execution_count": 29,
     "metadata": {},
     "output_type": "execute_result"
    }
   ],
   "source": [
    "df_free.shape[0]+df_ultra.shape[0]\n",
    "#разделение произошло успешно, сумма строк новых датафремов равна исходному"
   ]
  },
  {
   "cell_type": "code",
   "execution_count": 30,
   "id": "244108b2",
   "metadata": {},
   "outputs": [
    {
     "data": {
      "image/png": "[encoded data removed]",
      "text/plain": [
       "<Figure size 864x432 with 1 Axes>"
      ]
     },
     "metadata": {
      "needs_background": "light"
     },
     "output_type": "display_data"
    },
    {
     "data": {
      "image/png": "[encoded data removed]",
      "text/plain": [
       "<Figure size 864x432 with 1 Axes>"
      ]
     },
     "metadata": {
      "needs_background": "light"
     },
     "output_type": "display_data"
    }
   ],
   "source": [
    "plt.figure(figsize=(12, 6))\n",
    "\n",
    "plt.hist(df_free['distance'], bins=20, alpha=0.5, label='Без подписки (free)', color='blue')\n",
    "plt.hist(df_ultra['distance'], bins=20, alpha=0.5, label='С подпиской (ultra)', color='green')\n",
    "\n",
    "plt.title('Распределение расстояний поездок')\n",
    "plt.xlabel('Расстояние (метры)')\n",
    "plt.ylabel('Количество поездок')\n",
    "plt.legend()\n",
    "plt.grid(True)\n",
    "plt.show()\n",
    "\n",
    "plt.figure(figsize=(12, 6))\n",
    "\n",
    "plt.hist(df_free['duration'], bins=20, alpha=0.5, label='Без подписки (free)', color='blue')\n",
    "plt.hist(df_ultra['duration'], bins=20, alpha=0.5, label='С подпиской (ultra)', color='green')\n",
    "\n",
    "plt.title('Распределение продолжительности поездок')\n",
    "plt.xlabel('Продолжительность (минуты)')\n",
    "plt.ylabel('Количество поездок')\n",
    "plt.legend()\n",
    "plt.grid(True)\n",
    "plt.show()"
   ]
  },
  {
   "cell_type": "markdown",
   "id": "14005b5e",
   "metadata": {},
   "source": [
    "<div class=\"alert alert-success\">\n",
    "<b>Комментарий ревьюера ✅:</b> \n",
    "    \n",
    "Графики то что нужно!"
   ]
  },
  {
   "cell_type": "code",
   "execution_count": 31,
   "id": "f76a6f0b",
   "metadata": {},
   "outputs": [
    {
     "data": {
      "text/plain": [
       "count    11568.000000\n",
       "mean      3045.495282\n",
       "std       1246.173806\n",
       "min          0.855683\n",
       "25%       2366.562689\n",
       "50%       3114.648465\n",
       "75%       3905.697894\n",
       "max       7211.007745\n",
       "Name: distance, dtype: float64"
      ]
     },
     "execution_count": 31,
     "metadata": {},
     "output_type": "execute_result"
    }
   ],
   "source": [
    "df_free['distance'].describe()"
   ]
  },
  {
   "cell_type": "code",
   "execution_count": 32,
   "id": "0716984e",
   "metadata": {},
   "outputs": [
    {
     "data": {
      "text/plain": [
       "count    6500.000000\n",
       "mean     3115.445388\n",
       "std       836.895330\n",
       "min       244.210438\n",
       "25%      2785.444017\n",
       "50%      3148.637229\n",
       "75%      3560.574425\n",
       "max      5699.769662\n",
       "Name: distance, dtype: float64"
      ]
     },
     "execution_count": 32,
     "metadata": {},
     "output_type": "execute_result"
    }
   ],
   "source": [
    "df_ultra['distance'].describe()"
   ]
  },
  {
   "cell_type": "code",
   "execution_count": 33,
   "id": "2a5e48df",
   "metadata": {},
   "outputs": [
    {
     "data": {
      "text/plain": [
       "count    11568.000000\n",
       "mean        17.390909\n",
       "std          6.326803\n",
       "min          0.500000\n",
       "25%         12.958437\n",
       "50%         17.326890\n",
       "75%         21.594071\n",
       "max         34.948498\n",
       "Name: duration, dtype: float64"
      ]
     },
     "execution_count": 33,
     "metadata": {},
     "output_type": "execute_result"
    }
   ],
   "source": [
    "df_free['duration'].describe()"
   ]
  },
  {
   "cell_type": "code",
   "execution_count": 34,
   "id": "1a0e928b",
   "metadata": {},
   "outputs": [
    {
     "data": {
      "text/plain": [
       "count    6500.000000\n",
       "mean       18.541985\n",
       "std         5.572048\n",
       "min         3.760353\n",
       "25%        14.524654\n",
       "50%        18.178153\n",
       "75%        21.884129\n",
       "max        40.823963\n",
       "Name: duration, dtype: float64"
      ]
     },
     "execution_count": 34,
     "metadata": {},
     "output_type": "execute_result"
    }
   ],
   "source": [
    "df_ultra['duration'].describe()"
   ]
  },
  {
   "cell_type": "markdown",
   "id": "b4bab7ce",
   "metadata": {},
   "source": [
    "<div class=\"alert alert-warning\">\n",
    "<b>Комментарий ревьюера ⚠️:</b> \n",
    "    \n",
    "Рекомендую добавить боксплоты :)\n",
    "</div>"
   ]
  },
  {
   "cell_type": "markdown",
   "id": "bb5726f0",
   "metadata": {},
   "source": [
    "**Итог по шагу \"Объединение данных\"**\n",
    "\n",
    "1. **Объединение данных**:\n",
    "   - Данные о пользователях, поездках и подписках были успешно объединены в один датафрейм с помощью метода `merge()`. В итоговом датафрейме содержатся все необходимые данные для дальнейшего анализа.\n",
    "\n",
    "2. **Разделение на группы**:\n",
    "   - На основе объединенного датафрейма были созданы два новых датафрейма: один для пользователей без подписки (`free`), другой — для пользователей с подпиской (`ultra`). Разделение прошло успешно, количество строк в новых датафреймах совпадает с количеством строк в исходном датафрейме.\n",
    "\n",
    "3. **Визуализация данных**:\n",
    "   - Были построены гистограммы для сравнения распределений расстояний и продолжительности поездок между пользователями с подпиской и без неё. \n",
    "   - Анализ показал, что пользователи с подпиской (`ultra`) имеют чуть большие средние значения как по расстоянию поездок, так и по их продолжительности, по сравнению с пользователями без подписки (`free`).\n"
   ]
  },
  {
   "cell_type": "markdown",
   "id": "d6f779cd",
   "metadata": {},
   "source": [
    "<div class=\"alert alert-success\">\n",
    "\n",
    "<b>Комментарий ревьюера ✅:</b>\n",
    "\n",
    "Коротко и ясно, хорошо описал :)"
   ]
  },
  {
   "cell_type": "markdown",
   "id": "402d620f",
   "metadata": {},
   "source": [
    "## Шаг 5. Подсчёт выручки"
   ]
  },
  {
   "cell_type": "markdown",
   "id": "41b95abd",
   "metadata": {},
   "source": [
    "Создание сводной таблицы"
   ]
  },
  {
   "cell_type": "code",
   "execution_count": 35,
   "id": "53049e0a",
   "metadata": {},
   "outputs": [
    {
     "data": {
      "text/html": [
       "<div>\n",
       "<style scoped>\n",
       "    .dataframe tbody tr th:only-of-type {\n",
       "        vertical-align: middle;\n",
       "    }\n",
       "\n",
       "    .dataframe tbody tr th {\n",
       "        vertical-align: top;\n",
       "    }\n",
       "\n",
       "    .dataframe thead th {\n",
       "        text-align: right;\n",
       "    }\n",
       "</style>\n",
       "<table border=\"1\" class=\"dataframe\">\n",
       "  <thead>\n",
       "    <tr style=\"text-align: right;\">\n",
       "      <th></th>\n",
       "      <th>user_id</th>\n",
       "      <th>month</th>\n",
       "      <th>trip_count</th>\n",
       "      <th>total_distance</th>\n",
       "      <th>total_duration</th>\n",
       "      <th>minute_price</th>\n",
       "      <th>start_ride_price</th>\n",
       "      <th>subscription_fee</th>\n",
       "    </tr>\n",
       "  </thead>\n",
       "  <tbody>\n",
       "    <tr>\n",
       "      <th>0</th>\n",
       "      <td>1</td>\n",
       "      <td>1</td>\n",
       "      <td>2</td>\n",
       "      <td>7027.511294</td>\n",
       "      <td>42.0</td>\n",
       "      <td>6</td>\n",
       "      <td>0</td>\n",
       "      <td>199</td>\n",
       "    </tr>\n",
       "    <tr>\n",
       "      <th>1</th>\n",
       "      <td>1</td>\n",
       "      <td>4</td>\n",
       "      <td>1</td>\n",
       "      <td>754.159807</td>\n",
       "      <td>7.0</td>\n",
       "      <td>6</td>\n",
       "      <td>0</td>\n",
       "      <td>199</td>\n",
       "    </tr>\n",
       "    <tr>\n",
       "      <th>2</th>\n",
       "      <td>1</td>\n",
       "      <td>8</td>\n",
       "      <td>2</td>\n",
       "      <td>6723.470560</td>\n",
       "      <td>46.0</td>\n",
       "      <td>6</td>\n",
       "      <td>0</td>\n",
       "      <td>199</td>\n",
       "    </tr>\n",
       "    <tr>\n",
       "      <th>3</th>\n",
       "      <td>1</td>\n",
       "      <td>10</td>\n",
       "      <td>2</td>\n",
       "      <td>5809.911100</td>\n",
       "      <td>32.0</td>\n",
       "      <td>6</td>\n",
       "      <td>0</td>\n",
       "      <td>199</td>\n",
       "    </tr>\n",
       "    <tr>\n",
       "      <th>4</th>\n",
       "      <td>1</td>\n",
       "      <td>11</td>\n",
       "      <td>3</td>\n",
       "      <td>7003.499363</td>\n",
       "      <td>56.0</td>\n",
       "      <td>6</td>\n",
       "      <td>0</td>\n",
       "      <td>199</td>\n",
       "    </tr>\n",
       "    <tr>\n",
       "      <th>5</th>\n",
       "      <td>1</td>\n",
       "      <td>12</td>\n",
       "      <td>2</td>\n",
       "      <td>6751.629942</td>\n",
       "      <td>28.0</td>\n",
       "      <td>6</td>\n",
       "      <td>0</td>\n",
       "      <td>199</td>\n",
       "    </tr>\n",
       "    <tr>\n",
       "      <th>6</th>\n",
       "      <td>2</td>\n",
       "      <td>3</td>\n",
       "      <td>3</td>\n",
       "      <td>10187.723006</td>\n",
       "      <td>63.0</td>\n",
       "      <td>6</td>\n",
       "      <td>0</td>\n",
       "      <td>199</td>\n",
       "    </tr>\n",
       "    <tr>\n",
       "      <th>7</th>\n",
       "      <td>2</td>\n",
       "      <td>4</td>\n",
       "      <td>2</td>\n",
       "      <td>6164.381824</td>\n",
       "      <td>40.0</td>\n",
       "      <td>6</td>\n",
       "      <td>0</td>\n",
       "      <td>199</td>\n",
       "    </tr>\n",
       "    <tr>\n",
       "      <th>8</th>\n",
       "      <td>2</td>\n",
       "      <td>6</td>\n",
       "      <td>1</td>\n",
       "      <td>3255.338202</td>\n",
       "      <td>14.0</td>\n",
       "      <td>6</td>\n",
       "      <td>0</td>\n",
       "      <td>199</td>\n",
       "    </tr>\n",
       "    <tr>\n",
       "      <th>9</th>\n",
       "      <td>2</td>\n",
       "      <td>7</td>\n",
       "      <td>2</td>\n",
       "      <td>6780.722964</td>\n",
       "      <td>48.0</td>\n",
       "      <td>6</td>\n",
       "      <td>0</td>\n",
       "      <td>199</td>\n",
       "    </tr>\n",
       "    <tr>\n",
       "      <th>10</th>\n",
       "      <td>2</td>\n",
       "      <td>8</td>\n",
       "      <td>1</td>\n",
       "      <td>923.007439</td>\n",
       "      <td>7.0</td>\n",
       "      <td>6</td>\n",
       "      <td>0</td>\n",
       "      <td>199</td>\n",
       "    </tr>\n",
       "    <tr>\n",
       "      <th>11</th>\n",
       "      <td>2</td>\n",
       "      <td>10</td>\n",
       "      <td>1</td>\n",
       "      <td>2824.636598</td>\n",
       "      <td>19.0</td>\n",
       "      <td>6</td>\n",
       "      <td>0</td>\n",
       "      <td>199</td>\n",
       "    </tr>\n",
       "    <tr>\n",
       "      <th>12</th>\n",
       "      <td>2</td>\n",
       "      <td>12</td>\n",
       "      <td>1</td>\n",
       "      <td>3828.248580</td>\n",
       "      <td>12.0</td>\n",
       "      <td>6</td>\n",
       "      <td>0</td>\n",
       "      <td>199</td>\n",
       "    </tr>\n",
       "    <tr>\n",
       "      <th>13</th>\n",
       "      <td>3</td>\n",
       "      <td>1</td>\n",
       "      <td>1</td>\n",
       "      <td>3061.777147</td>\n",
       "      <td>13.0</td>\n",
       "      <td>6</td>\n",
       "      <td>0</td>\n",
       "      <td>199</td>\n",
       "    </tr>\n",
       "    <tr>\n",
       "      <th>14</th>\n",
       "      <td>3</td>\n",
       "      <td>2</td>\n",
       "      <td>2</td>\n",
       "      <td>5421.152016</td>\n",
       "      <td>39.0</td>\n",
       "      <td>6</td>\n",
       "      <td>0</td>\n",
       "      <td>199</td>\n",
       "    </tr>\n",
       "    <tr>\n",
       "      <th>15</th>\n",
       "      <td>3</td>\n",
       "      <td>4</td>\n",
       "      <td>1</td>\n",
       "      <td>2956.651632</td>\n",
       "      <td>21.0</td>\n",
       "      <td>6</td>\n",
       "      <td>0</td>\n",
       "      <td>199</td>\n",
       "    </tr>\n",
       "    <tr>\n",
       "      <th>16</th>\n",
       "      <td>3</td>\n",
       "      <td>5</td>\n",
       "      <td>3</td>\n",
       "      <td>9064.026918</td>\n",
       "      <td>63.0</td>\n",
       "      <td>6</td>\n",
       "      <td>0</td>\n",
       "      <td>199</td>\n",
       "    </tr>\n",
       "    <tr>\n",
       "      <th>17</th>\n",
       "      <td>3</td>\n",
       "      <td>7</td>\n",
       "      <td>3</td>\n",
       "      <td>10919.595403</td>\n",
       "      <td>67.0</td>\n",
       "      <td>6</td>\n",
       "      <td>0</td>\n",
       "      <td>199</td>\n",
       "    </tr>\n",
       "    <tr>\n",
       "      <th>18</th>\n",
       "      <td>3</td>\n",
       "      <td>9</td>\n",
       "      <td>1</td>\n",
       "      <td>2891.012822</td>\n",
       "      <td>23.0</td>\n",
       "      <td>6</td>\n",
       "      <td>0</td>\n",
       "      <td>199</td>\n",
       "    </tr>\n",
       "    <tr>\n",
       "      <th>19</th>\n",
       "      <td>3</td>\n",
       "      <td>12</td>\n",
       "      <td>1</td>\n",
       "      <td>2593.381928</td>\n",
       "      <td>13.0</td>\n",
       "      <td>6</td>\n",
       "      <td>0</td>\n",
       "      <td>199</td>\n",
       "    </tr>\n",
       "  </tbody>\n",
       "</table>\n",
       "</div>"
      ],
      "text/plain": [
       "    user_id  month  trip_count  total_distance  total_duration  minute_price  \\\n",
       "0         1      1           2     7027.511294            42.0             6   \n",
       "1         1      4           1      754.159807             7.0             6   \n",
       "2         1      8           2     6723.470560            46.0             6   \n",
       "3         1     10           2     5809.911100            32.0             6   \n",
       "4         1     11           3     7003.499363            56.0             6   \n",
       "5         1     12           2     6751.629942            28.0             6   \n",
       "6         2      3           3    10187.723006            63.0             6   \n",
       "7         2      4           2     6164.381824            40.0             6   \n",
       "8         2      6           1     3255.338202            14.0             6   \n",
       "9         2      7           2     6780.722964            48.0             6   \n",
       "10        2      8           1      923.007439             7.0             6   \n",
       "11        2     10           1     2824.636598            19.0             6   \n",
       "12        2     12           1     3828.248580            12.0             6   \n",
       "13        3      1           1     3061.777147            13.0             6   \n",
       "14        3      2           2     5421.152016            39.0             6   \n",
       "15        3      4           1     2956.651632            21.0             6   \n",
       "16        3      5           3     9064.026918            63.0             6   \n",
       "17        3      7           3    10919.595403            67.0             6   \n",
       "18        3      9           1     2891.012822            23.0             6   \n",
       "19        3     12           1     2593.381928            13.0             6   \n",
       "\n",
       "    start_ride_price  subscription_fee  \n",
       "0                  0               199  \n",
       "1                  0               199  \n",
       "2                  0               199  \n",
       "3                  0               199  \n",
       "4                  0               199  \n",
       "5                  0               199  \n",
       "6                  0               199  \n",
       "7                  0               199  \n",
       "8                  0               199  \n",
       "9                  0               199  \n",
       "10                 0               199  \n",
       "11                 0               199  \n",
       "12                 0               199  \n",
       "13                 0               199  \n",
       "14                 0               199  \n",
       "15                 0               199  \n",
       "16                 0               199  \n",
       "17                 0               199  \n",
       "18                 0               199  \n",
       "19                 0               199  "
      ]
     },
     "execution_count": 35,
     "metadata": {},
     "output_type": "execute_result"
    }
   ],
   "source": [
    "# Округление продолжительности поездок до следующего целого числа\n",
    "df['duration'] = np.ceil(df['duration'])\n",
    "\n",
    "# Создание сводной таблицы с агрегированными данными\n",
    "monthly_user_stats = df.pivot_table(\n",
    "    index=('user_id', 'month'), \n",
    "    values=(\n",
    "        'distance', \n",
    "        'duration', \n",
    "        'minute_price', \n",
    "        'start_ride_price', \n",
    "        'subscription_fee'\n",
    "    ), \n",
    "    aggfunc={\n",
    "        'distance': ['sum', 'count'], \n",
    "        'duration': 'sum',\n",
    "        'minute_price': 'mean',\n",
    "        'start_ride_price': 'mean',\n",
    "        'subscription_fee': 'mean'\n",
    "    }\n",
    ")\n",
    "\n",
    "# Переименование столбцов для удобства\n",
    "monthly_user_stats.columns = [\n",
    "    'trip_count','total_distance',\n",
    "    'total_duration', \n",
    "    'minute_price',\n",
    "    'start_ride_price', \n",
    "    'subscription_fee'\n",
    "]\n",
    "\n",
    "# Сброс индексов для удобства работы с таблицей\n",
    "monthly_user_stats = monthly_user_stats.reset_index()\n",
    "\n",
    "monthly_user_stats.head(20)"
   ]
  },
  {
   "cell_type": "markdown",
   "id": "f1c0c629",
   "metadata": {},
   "source": [
    "<div class=\"alert alert-success\">\n",
    "\n",
    "<b>Комментарий ревьюера ✅:</b>\n",
    "\n",
    "Сводная хорошая, принято"
   ]
  },
  {
   "cell_type": "markdown",
   "id": "5f99ce5a",
   "metadata": {},
   "source": [
    "<div class=\"alert alert-warning\">\n",
    "<b>Комментарий ревьюера ⚠️:</b> \n",
    "    \n",
    "Рекомендую добавить колонку с типом подписки\n",
    "</div>"
   ]
  },
  {
   "cell_type": "markdown",
   "id": "d22b7f22",
   "metadata": {},
   "source": [
    "Добавление столбца \"выручки\""
   ]
  },
  {
   "cell_type": "markdown",
   "id": "bc7f9745",
   "metadata": {},
   "source": [
    "<div class=\"alert alert-danger\">\n",
    "    \n",
    "<b>Комментарий ревьюера ❌:</b>\n",
    "    \n",
    "Нет проверки на пропуски в сводной таблице перед расчётом выручки\n",
    " </div>"
   ]
  },
  {
   "cell_type": "markdown",
   "id": "0110a7a0",
   "metadata": {},
   "source": [
    "<div class=\"alert alert-info\"> <b>Комментарий студента:</b> Добавление проверки на пропуски в сводной таблице</div>"
   ]
  },
  {
   "cell_type": "code",
   "execution_count": 36,
   "id": "0c89f7f5",
   "metadata": {},
   "outputs": [
    {
     "data": {
      "text/plain": [
       "user_id             0\n",
       "month               0\n",
       "trip_count          0\n",
       "total_distance      0\n",
       "total_duration      0\n",
       "minute_price        0\n",
       "start_ride_price    0\n",
       "subscription_fee    0\n",
       "dtype: int64"
      ]
     },
     "execution_count": 36,
     "metadata": {},
     "output_type": "execute_result"
    }
   ],
   "source": [
    "monthly_user_stats.isna().sum()\n",
    "#пропусков нет"
   ]
  },
  {
   "cell_type": "markdown",
   "id": "999a9342",
   "metadata": {},
   "source": [
    "<div class=\"alert alert-success\">\n",
    "<b>Комментарий ревьюера ✅V2:</b> \n",
    "    \n",
    "Принято"
   ]
  },
  {
   "cell_type": "markdown",
   "id": "565903b3",
   "metadata": {},
   "source": [
    "<div class=\"alert alert-warning\">\n",
    "<b>Комментарий ревьюера ⚠️:</b>\n",
    " \n",
    "Выручка посчитана верно, но рекомендую посчитать её с помощью применения функции для более гибкого кода и тренировки\n",
    "\n",
    "</div>"
   ]
  },
  {
   "cell_type": "code",
   "execution_count": 37,
   "id": "6eebe027",
   "metadata": {},
   "outputs": [
    {
     "data": {
      "text/html": [
       "<div>\n",
       "<style scoped>\n",
       "    .dataframe tbody tr th:only-of-type {\n",
       "        vertical-align: middle;\n",
       "    }\n",
       "\n",
       "    .dataframe tbody tr th {\n",
       "        vertical-align: top;\n",
       "    }\n",
       "\n",
       "    .dataframe thead th {\n",
       "        text-align: right;\n",
       "    }\n",
       "</style>\n",
       "<table border=\"1\" class=\"dataframe\">\n",
       "  <thead>\n",
       "    <tr style=\"text-align: right;\">\n",
       "      <th></th>\n",
       "      <th>user_id</th>\n",
       "      <th>month</th>\n",
       "      <th>trip_count</th>\n",
       "      <th>total_distance</th>\n",
       "      <th>total_duration</th>\n",
       "      <th>minute_price</th>\n",
       "      <th>start_ride_price</th>\n",
       "      <th>subscription_fee</th>\n",
       "      <th>revenue</th>\n",
       "    </tr>\n",
       "  </thead>\n",
       "  <tbody>\n",
       "    <tr>\n",
       "      <th>0</th>\n",
       "      <td>1</td>\n",
       "      <td>1</td>\n",
       "      <td>2</td>\n",
       "      <td>7027.511294</td>\n",
       "      <td>42.0</td>\n",
       "      <td>6</td>\n",
       "      <td>0</td>\n",
       "      <td>199</td>\n",
       "      <td>451.0</td>\n",
       "    </tr>\n",
       "    <tr>\n",
       "      <th>1</th>\n",
       "      <td>1</td>\n",
       "      <td>4</td>\n",
       "      <td>1</td>\n",
       "      <td>754.159807</td>\n",
       "      <td>7.0</td>\n",
       "      <td>6</td>\n",
       "      <td>0</td>\n",
       "      <td>199</td>\n",
       "      <td>241.0</td>\n",
       "    </tr>\n",
       "    <tr>\n",
       "      <th>2</th>\n",
       "      <td>1</td>\n",
       "      <td>8</td>\n",
       "      <td>2</td>\n",
       "      <td>6723.470560</td>\n",
       "      <td>46.0</td>\n",
       "      <td>6</td>\n",
       "      <td>0</td>\n",
       "      <td>199</td>\n",
       "      <td>475.0</td>\n",
       "    </tr>\n",
       "    <tr>\n",
       "      <th>3</th>\n",
       "      <td>1</td>\n",
       "      <td>10</td>\n",
       "      <td>2</td>\n",
       "      <td>5809.911100</td>\n",
       "      <td>32.0</td>\n",
       "      <td>6</td>\n",
       "      <td>0</td>\n",
       "      <td>199</td>\n",
       "      <td>391.0</td>\n",
       "    </tr>\n",
       "    <tr>\n",
       "      <th>4</th>\n",
       "      <td>1</td>\n",
       "      <td>11</td>\n",
       "      <td>3</td>\n",
       "      <td>7003.499363</td>\n",
       "      <td>56.0</td>\n",
       "      <td>6</td>\n",
       "      <td>0</td>\n",
       "      <td>199</td>\n",
       "      <td>535.0</td>\n",
       "    </tr>\n",
       "    <tr>\n",
       "      <th>5</th>\n",
       "      <td>1</td>\n",
       "      <td>12</td>\n",
       "      <td>2</td>\n",
       "      <td>6751.629942</td>\n",
       "      <td>28.0</td>\n",
       "      <td>6</td>\n",
       "      <td>0</td>\n",
       "      <td>199</td>\n",
       "      <td>367.0</td>\n",
       "    </tr>\n",
       "    <tr>\n",
       "      <th>6</th>\n",
       "      <td>2</td>\n",
       "      <td>3</td>\n",
       "      <td>3</td>\n",
       "      <td>10187.723006</td>\n",
       "      <td>63.0</td>\n",
       "      <td>6</td>\n",
       "      <td>0</td>\n",
       "      <td>199</td>\n",
       "      <td>577.0</td>\n",
       "    </tr>\n",
       "    <tr>\n",
       "      <th>7</th>\n",
       "      <td>2</td>\n",
       "      <td>4</td>\n",
       "      <td>2</td>\n",
       "      <td>6164.381824</td>\n",
       "      <td>40.0</td>\n",
       "      <td>6</td>\n",
       "      <td>0</td>\n",
       "      <td>199</td>\n",
       "      <td>439.0</td>\n",
       "    </tr>\n",
       "    <tr>\n",
       "      <th>8</th>\n",
       "      <td>2</td>\n",
       "      <td>6</td>\n",
       "      <td>1</td>\n",
       "      <td>3255.338202</td>\n",
       "      <td>14.0</td>\n",
       "      <td>6</td>\n",
       "      <td>0</td>\n",
       "      <td>199</td>\n",
       "      <td>283.0</td>\n",
       "    </tr>\n",
       "    <tr>\n",
       "      <th>9</th>\n",
       "      <td>2</td>\n",
       "      <td>7</td>\n",
       "      <td>2</td>\n",
       "      <td>6780.722964</td>\n",
       "      <td>48.0</td>\n",
       "      <td>6</td>\n",
       "      <td>0</td>\n",
       "      <td>199</td>\n",
       "      <td>487.0</td>\n",
       "    </tr>\n",
       "    <tr>\n",
       "      <th>10</th>\n",
       "      <td>2</td>\n",
       "      <td>8</td>\n",
       "      <td>1</td>\n",
       "      <td>923.007439</td>\n",
       "      <td>7.0</td>\n",
       "      <td>6</td>\n",
       "      <td>0</td>\n",
       "      <td>199</td>\n",
       "      <td>241.0</td>\n",
       "    </tr>\n",
       "    <tr>\n",
       "      <th>11</th>\n",
       "      <td>2</td>\n",
       "      <td>10</td>\n",
       "      <td>1</td>\n",
       "      <td>2824.636598</td>\n",
       "      <td>19.0</td>\n",
       "      <td>6</td>\n",
       "      <td>0</td>\n",
       "      <td>199</td>\n",
       "      <td>313.0</td>\n",
       "    </tr>\n",
       "    <tr>\n",
       "      <th>12</th>\n",
       "      <td>2</td>\n",
       "      <td>12</td>\n",
       "      <td>1</td>\n",
       "      <td>3828.248580</td>\n",
       "      <td>12.0</td>\n",
       "      <td>6</td>\n",
       "      <td>0</td>\n",
       "      <td>199</td>\n",
       "      <td>271.0</td>\n",
       "    </tr>\n",
       "    <tr>\n",
       "      <th>13</th>\n",
       "      <td>3</td>\n",
       "      <td>1</td>\n",
       "      <td>1</td>\n",
       "      <td>3061.777147</td>\n",
       "      <td>13.0</td>\n",
       "      <td>6</td>\n",
       "      <td>0</td>\n",
       "      <td>199</td>\n",
       "      <td>277.0</td>\n",
       "    </tr>\n",
       "    <tr>\n",
       "      <th>14</th>\n",
       "      <td>3</td>\n",
       "      <td>2</td>\n",
       "      <td>2</td>\n",
       "      <td>5421.152016</td>\n",
       "      <td>39.0</td>\n",
       "      <td>6</td>\n",
       "      <td>0</td>\n",
       "      <td>199</td>\n",
       "      <td>433.0</td>\n",
       "    </tr>\n",
       "    <tr>\n",
       "      <th>15</th>\n",
       "      <td>3</td>\n",
       "      <td>4</td>\n",
       "      <td>1</td>\n",
       "      <td>2956.651632</td>\n",
       "      <td>21.0</td>\n",
       "      <td>6</td>\n",
       "      <td>0</td>\n",
       "      <td>199</td>\n",
       "      <td>325.0</td>\n",
       "    </tr>\n",
       "    <tr>\n",
       "      <th>16</th>\n",
       "      <td>3</td>\n",
       "      <td>5</td>\n",
       "      <td>3</td>\n",
       "      <td>9064.026918</td>\n",
       "      <td>63.0</td>\n",
       "      <td>6</td>\n",
       "      <td>0</td>\n",
       "      <td>199</td>\n",
       "      <td>577.0</td>\n",
       "    </tr>\n",
       "    <tr>\n",
       "      <th>17</th>\n",
       "      <td>3</td>\n",
       "      <td>7</td>\n",
       "      <td>3</td>\n",
       "      <td>10919.595403</td>\n",
       "      <td>67.0</td>\n",
       "      <td>6</td>\n",
       "      <td>0</td>\n",
       "      <td>199</td>\n",
       "      <td>601.0</td>\n",
       "    </tr>\n",
       "    <tr>\n",
       "      <th>18</th>\n",
       "      <td>3</td>\n",
       "      <td>9</td>\n",
       "      <td>1</td>\n",
       "      <td>2891.012822</td>\n",
       "      <td>23.0</td>\n",
       "      <td>6</td>\n",
       "      <td>0</td>\n",
       "      <td>199</td>\n",
       "      <td>337.0</td>\n",
       "    </tr>\n",
       "    <tr>\n",
       "      <th>19</th>\n",
       "      <td>3</td>\n",
       "      <td>12</td>\n",
       "      <td>1</td>\n",
       "      <td>2593.381928</td>\n",
       "      <td>13.0</td>\n",
       "      <td>6</td>\n",
       "      <td>0</td>\n",
       "      <td>199</td>\n",
       "      <td>277.0</td>\n",
       "    </tr>\n",
       "  </tbody>\n",
       "</table>\n",
       "</div>"
      ],
      "text/plain": [
       "    user_id  month  trip_count  total_distance  total_duration  minute_price  \\\n",
       "0         1      1           2     7027.511294            42.0             6   \n",
       "1         1      4           1      754.159807             7.0             6   \n",
       "2         1      8           2     6723.470560            46.0             6   \n",
       "3         1     10           2     5809.911100            32.0             6   \n",
       "4         1     11           3     7003.499363            56.0             6   \n",
       "5         1     12           2     6751.629942            28.0             6   \n",
       "6         2      3           3    10187.723006            63.0             6   \n",
       "7         2      4           2     6164.381824            40.0             6   \n",
       "8         2      6           1     3255.338202            14.0             6   \n",
       "9         2      7           2     6780.722964            48.0             6   \n",
       "10        2      8           1      923.007439             7.0             6   \n",
       "11        2     10           1     2824.636598            19.0             6   \n",
       "12        2     12           1     3828.248580            12.0             6   \n",
       "13        3      1           1     3061.777147            13.0             6   \n",
       "14        3      2           2     5421.152016            39.0             6   \n",
       "15        3      4           1     2956.651632            21.0             6   \n",
       "16        3      5           3     9064.026918            63.0             6   \n",
       "17        3      7           3    10919.595403            67.0             6   \n",
       "18        3      9           1     2891.012822            23.0             6   \n",
       "19        3     12           1     2593.381928            13.0             6   \n",
       "\n",
       "    start_ride_price  subscription_fee  revenue  \n",
       "0                  0               199    451.0  \n",
       "1                  0               199    241.0  \n",
       "2                  0               199    475.0  \n",
       "3                  0               199    391.0  \n",
       "4                  0               199    535.0  \n",
       "5                  0               199    367.0  \n",
       "6                  0               199    577.0  \n",
       "7                  0               199    439.0  \n",
       "8                  0               199    283.0  \n",
       "9                  0               199    487.0  \n",
       "10                 0               199    241.0  \n",
       "11                 0               199    313.0  \n",
       "12                 0               199    271.0  \n",
       "13                 0               199    277.0  \n",
       "14                 0               199    433.0  \n",
       "15                 0               199    325.0  \n",
       "16                 0               199    577.0  \n",
       "17                 0               199    601.0  \n",
       "18                 0               199    337.0  \n",
       "19                 0               199    277.0  "
      ]
     },
     "execution_count": 37,
     "metadata": {},
     "output_type": "execute_result"
    }
   ],
   "source": [
    "monthly_user_stats['revenue'] = (\n",
    "    monthly_user_stats['start_ride_price'] * monthly_user_stats['trip_count'] +\n",
    "    monthly_user_stats['minute_price'] * monthly_user_stats['total_duration'] +\n",
    "    monthly_user_stats['subscription_fee']\n",
    ")\n",
    "monthly_user_stats.head(20)"
   ]
  },
  {
   "cell_type": "markdown",
   "id": "4a5a7e0a",
   "metadata": {},
   "source": [
    "**Итог по шагу \"Подсчёт выручки\"**\n",
    "\n",
    "1. **Создание сводной таблицы**:\n",
    "   - Был создан датафрейм `monthly_user_stats`, который агрегирует данные по каждому пользователю и месяцу. В этот датафрейм вошли:\n",
    "     - Суммарное расстояние (`total_distance`).\n",
    "     - Количество поездок (`trip_count`).\n",
    "     - Суммарная продолжительность поездок (`total_duration`).\n",
    "     - Стоимость минуты поездки (`minute_price`).\n",
    "     - Стоимость старта поездки (`start_ride_price`).\n",
    "     - Стоимость подписки (`subscription_fee`).\n",
    "\n",
    "2. **Расчёт помесячной выручки**:\n",
    "   - В датафрейм `monthly_user_stats` был добавлен новый столбец `revenue`, который рассчитывает помесячную выручку для каждого пользователя на основе стоимости старта поездок, продолжительности поездок и стоимости подписки."
   ]
  },
  {
   "cell_type": "markdown",
   "id": "568c7b11",
   "metadata": {},
   "source": [
    "<div class=\"alert alert-success\">\n",
    "\n",
    "<b>Комментарий ревьюера ✅:</b>\n",
    "\n",
    "Здесь в целом всё хорошо, **нужно исправить замечания выше**"
   ]
  },
  {
   "cell_type": "markdown",
   "id": "41545ac0",
   "metadata": {},
   "source": [
    "## Шаг 6. Проверка гипотез"
   ]
  },
  {
   "cell_type": "markdown",
   "id": "e6f5aa61",
   "metadata": {},
   "source": [
    "**Шаг 6.1 Определение, тратят ли пользователи с подпиской больше времени на поездки**\n",
    "\n",
    "Для проверки гипотезы о том, что пользователи с подпиской проводят больше времени на поездках, чем пользователи без подписки, был использован t-тест для независимых выборок.\n",
    "\n",
    "**Гипотезы**:\n",
    "- **Нулевая (H0)**: Средняя продолжительность поездок у пользователей с подпиской равна средней продолжительности поездок у пользователей без подписки.\n",
    "- **Альтернативная (H1)**: Средняя продолжительность поездок у пользователей с подпиской больше.\n",
    "\n",
    "В тесте использован параметр `equal_var=False`, который учитывает возможное различие дисперсий между группами, что делает тест более точным в случае неоднородных данных."
   ]
  },
  {
   "cell_type": "code",
   "execution_count": 38,
   "id": "23ea867b",
   "metadata": {},
   "outputs": [
    {
     "name": "stdout",
     "output_type": "stream",
     "text": [
      "P-значение: 5.6757813771289775e-37\n",
      "Отвергаем нулевую гипотезу: пользователи с подпиской тратят больше времени на поездки.\n"
     ]
    }
   ],
   "source": [
    "# Выполнение t-теста для независимых выборок с учетом возможного различия дисперсий\n",
    "t_stat, p_value = stats.ttest_ind(df_ultra['duration'], df_free['duration'], equal_var=False, alternative='greater')\n",
    "\n",
    "print(f\"P-значение: {p_value}\")\n",
    "\n",
    "# Интерпретация результата\n",
    "alpha = 0.05\n",
    "if p_value < alpha:\n",
    "    print(\"Отвергаем нулевую гипотезу: пользователи с подпиской тратят больше времени на поездки.\")\n",
    "else:\n",
    "    print(\"Не удалось отвергнуть нулевую гипотезу: пользователи с подпиской не тратят больше времени на поездки.\")\n"
   ]
  },
  {
   "cell_type": "markdown",
   "id": "44c0dbc9",
   "metadata": {},
   "source": [
    "**Результаты**:\n",
    "- **P-значение**: 5.68e-37\n",
    "\n",
    "Итог: Нулевая гипотеза была отвергнута, что подтверждает: пользователи с подпиской тратят больше времени на поездки, чем пользователи без подписки."
   ]
  },
  {
   "cell_type": "markdown",
   "id": "fc851f40",
   "metadata": {},
   "source": [
    "<div class=\"alert alert-success\">\n",
    "\n",
    "<b>Комментарий ревьюера ✅:</b>\n",
    "\n",
    "Принято"
   ]
  },
  {
   "cell_type": "markdown",
   "id": "87595274",
   "metadata": {},
   "source": [
    "<div class=\"alert alert-warning\">\n",
    "<b>Комментарий ревьюера ⚠️:</b>\n",
    "  \n",
    "Почему используешь параметр `equal_var=False`?\n",
    "</div>"
   ]
  },
  {
   "cell_type": "markdown",
   "id": "6660e56a",
   "metadata": {},
   "source": [
    "**Шаг 6.2 Проверка гипотезы: Сравнение среднего расстояния для пользователей с подпиской и оптимального значения**\n",
    "\n",
    "Задача — проверить, не превышает ли среднее расстояние, которое проезжают пользователи с подпиской за одну поездку, оптимальное значение в 3130 метров.\n",
    "\n",
    "**Гипотезы**:\n",
    "- **Нулевая (H0)**: Среднее расстояние, которое проезжают пользователи с подпиской, равно или больше 3130 метров.\n",
    "- **Альтернативная (H1)**: Среднее расстояние, которое проезжают пользователи с подпиской, меньше 3130 метров.\n",
    "\n",
    "Для проверки гипотезы используем **одновыборочный t-тест** (`one-sample t-test`)."
   ]
  },
  {
   "cell_type": "markdown",
   "id": "7394818d",
   "metadata": {},
   "source": [
    "<div class=\"alert alert-danger\">\n",
    "<b>Комментарий ревьюера ❌:</b> \n",
    "\n",
    "Поскольку оптимальное расстояние по износу составляет 3130 м, значит большее расстояние приводит к повышенному износу самоката. Следовательно, имеет смысл сформулировать альтернативную гипотезу \"Подписчики в среднем проезжают расстояние больше оптимального\" и соответственно в статистическом тесте использовать параметр alternative = 'greater'\n",
    "    \n",
    "    \n",
    "*Результат не отразится на гипотезе, но важно строить именно нужные гипотезы*\n",
    "</div>"
   ]
  },
  {
   "cell_type": "code",
   "execution_count": 39,
   "id": "afa210da",
   "metadata": {},
   "outputs": [
    {
     "name": "stdout",
     "output_type": "stream",
     "text": [
      "P-значение: 0.08046311521502146\n",
      "Не удалось отвергнуть нулевую гипотезу: среднее расстояние для пользователей с подпиской не меньше 3130 метров.\n"
     ]
    }
   ],
   "source": [
    "# Среднее значение для сравнения\n",
    "optimal_distance = 3130\n",
    "\n",
    "# Выполнение одновыборочного t-теста\n",
    "t_stat, p_value = stats.ttest_1samp(df_ultra['distance'], optimal_distance, alternative='less')\n",
    "\n",
    "print(f\"P-значение: {p_value}\")\n",
    "\n",
    "# Интерпретация результата\n",
    "alpha = 0.05\n",
    "if p_value < alpha:\n",
    "    print(\"Отвергаем нулевую гипотезу: среднее расстояние для пользователей с подпиской меньше 3130 метров.\")\n",
    "else:\n",
    "    print(\"Не удалось отвергнуть нулевую гипотезу: среднее расстояние для пользователей с подпиской не меньше 3130 метров.\")"
   ]
  },
  {
   "cell_type": "markdown",
   "id": "8c235a30",
   "metadata": {},
   "source": [
    "Вывод: Результаты теста показали, что p-значение (0.080) больше уровня значимости (0.05). Это означает, что нулевая гипотеза не может быть отвергнута. Таким образом, нет статистически значимых оснований утверждать, что среднее расстояние, которое проезжают пользователи с подпиской, меньше 3130 метров. Скорее всего, оно либо равно, либо превышает это значение."
   ]
  },
  {
   "cell_type": "markdown",
   "id": "de82c910",
   "metadata": {},
   "source": [
    "<div class=\"alert alert-info\"> <b>Комментарий студента:</b> Измененное решение</div>\n",
    "    "
   ]
  },
  {
   "cell_type": "markdown",
   "id": "d8b8a86b",
   "metadata": {},
   "source": [
    "<div class=\"alert alert-success\">\n",
    "\n",
    "<b>Комментарий ревьюера ✅V2:</b>\n",
    "\n",
    "Принято, неверное решение выше можно удалить"
   ]
  },
  {
   "cell_type": "markdown",
   "id": "38bfc780",
   "metadata": {},
   "source": [
    "**Шаг 6.2 Проверка гипотезы: Сравнение среднего расстояния для пользователей с подпиской и оптимального значения**\n",
    "\n",
    "Задача — проверить, превышает ли среднее расстояние, которое проезжают пользователи с подпиской за одну поездку, оптимальное значение в 3130 метров.\n",
    "\n",
    "**Гипотезы:**\n",
    "- **Нулевая (H0):** Среднее расстояние, которое проезжают пользователи с подпиской, равно или меньше 3130 метров.\n",
    "- **Альтернативная (H1):** Среднее расстояние, которое проезжают пользователи с подпиской, больше 3130 метров.\n"
   ]
  },
  {
   "cell_type": "code",
   "execution_count": 40,
   "id": "49019360",
   "metadata": {},
   "outputs": [
    {
     "name": "stdout",
     "output_type": "stream",
     "text": [
      "P-значение: 0.9195368847849785\n",
      "Не удалось отвергнуть нулевую гипотезу: среднее расстояние для пользователей с подпиской не больше 3130 метров.\n"
     ]
    }
   ],
   "source": [
    "# Среднее значение для сравнения\n",
    "optimal_distance = 3130\n",
    "\n",
    "# Выполнение одновыборочного t-теста с корректной альтернативной гипотезой\n",
    "t_stat, p_value = stats.ttest_1samp(df_ultra['distance'], optimal_distance, alternative='greater')\n",
    "\n",
    "print(f\"P-значение: {p_value}\")\n",
    "\n",
    "# Интерпретация результата\n",
    "alpha = 0.05\n",
    "if p_value < alpha:\n",
    "    print(\"Отвергаем нулевую гипотезу: среднее расстояние для пользователей с подпиской больше 3130 метров.\")\n",
    "else:\n",
    "    print(\"Не удалось отвергнуть нулевую гипотезу: среднее расстояние для пользователей с подпиской не больше 3130 метров.\")\n"
   ]
  },
  {
   "cell_type": "markdown",
   "id": "03307727",
   "metadata": {},
   "source": [
    "Вывод: результаты теста показали, что p-значение (0.9195) значительно больше уровня значимости (0.05). Это означает, что нулевая гипотеза не может быть отвергнута. Таким образом, нет статистически значимых оснований утверждать, что среднее расстояние, которое проезжают пользователи с подпиской, больше 3130 метров. Скорее всего, оно либо равно, либо меньше этого значения."
   ]
  },
  {
   "cell_type": "markdown",
   "id": "02bf9c2e",
   "metadata": {},
   "source": [
    "**Шаг 6.3 Проверка гипотезы: Сравнение помесячной выручки от пользователей с подпиской и без подписки**\n",
    "\n",
    "Задача этого этапа — проверить, действительно ли помесячная выручка от пользователей с подпиской выше, чем от пользователей без подписки.\n",
    "\n",
    "**Гипотезы**:\n",
    "- **Нулевая гипотеза (H0)**: Средняя помесячная выручка от пользователей с подпиской равна или меньше средней помесячной выручки от пользователей без подписки.\n",
    "- **Альтернативная гипотеза (H1)**: Средняя помесячная выручка от пользователей с подпиской выше средней помесячной выручки от пользователей без подписки.\n",
    "\n",
    "Для проверки гипотезы используем t-тест для независимых выборок, как и в предыдущих пунктах."
   ]
  },
  {
   "cell_type": "code",
   "execution_count": 41,
   "id": "06142fcb",
   "metadata": {},
   "outputs": [
    {
     "name": "stdout",
     "output_type": "stream",
     "text": [
      "P-значение: 8.874140893976874e-40\n",
      "Отвергаем нулевую гипотезу: помесячная выручка от пользователей с подпиской выше.\n"
     ]
    }
   ],
   "source": [
    "# Разделение данных на пользователей с подпиской и без подписки на основе стоимости подписки\n",
    "revenue_ultra = monthly_user_stats[monthly_user_stats['subscription_fee'] > 0]['revenue']\n",
    "revenue_free = monthly_user_stats[monthly_user_stats['subscription_fee'] == 0]['revenue']\n",
    "\n",
    "# Выполнение t-теста для независимых выборок\n",
    "t_stat, p_value = stats.ttest_ind(revenue_ultra, \n",
    "                                  revenue_free, \n",
    "                                  equal_var=False, \n",
    "                                  alternative='greater')\n",
    "\n",
    "print(f\"P-значение: {p_value}\")\n",
    "\n",
    "# Интерпретация результата\n",
    "alpha = 0.05\n",
    "if p_value < alpha:\n",
    "    print(\"Отвергаем нулевую гипотезу: помесячная выручка от пользователей с подпиской выше.\")\n",
    "else:\n",
    "    print(\"Не удалось отвергнуть нулевую гипотезу: помесячная выручка от пользователей с подпиской не выше.\")"
   ]
  },
  {
   "cell_type": "markdown",
   "id": "a0989212",
   "metadata": {},
   "source": [
    "<div class=\"alert alert-success\">\n",
    "\n",
    "<b>Комментарий ревьюера ✅:</b>\n",
    "\n",
    "Здорово что для клиентов с подпиской поставил `> 0`, это поможет если цена изменится.\n",
    "    \n",
    "Однако удобнее для чтения кода лучше будет обращение к типу подписки (а он не присоединён), учти это в будущих подобных ситуациях\n",
    "    \n",
    "Принято"
   ]
  },
  {
   "cell_type": "markdown",
   "id": "8b695d4e",
   "metadata": {},
   "source": [
    "Вывод: Результаты t-теста показали, что p-значение (8.87e-40) значительно меньше уровня значимости (0.05). Это позволяет отвергнуть нулевую гипотезу и сделать вывод, что помесячная выручка от пользователей с подпиской действительно выше, чем от пользователей без подписки. Этот результат подтверждает экономическую целесообразность стимулирования подписки среди пользователей."
   ]
  },
  {
   "cell_type": "markdown",
   "id": "fd855396",
   "metadata": {},
   "source": [
    "**Шаг 6.4 Проверка гипотезы: Снижение количества обращений в техподдержку после обновления серверов**\n",
    "\n",
    "Для проверки гипотезы о том, что количество обращений в техподдержку значимо снизилось после обновления серверов, необходимо использовать **парный t-тест** (paired t-test) в Python. Этот тест доступен в библиотеке `scipy.stats` и называется `ttest_rel`.\n",
    "\n",
    "**Гипотезы**:\n",
    "- **Нулевая гипотеза (H0)**: Среднее количество обращений в техподдержку не изменилось или увеличилось после обновления серверов.\n",
    "- **Альтернативная гипотеза (H1)**: Среднее количество обращений в техподдержку уменьшилось после обновления серверов.\n",
    "\n",
    "Для выполнения этого теста используется функция `ttest_rel` из библиотеки `scipy.stats`, которая принимает на вход две выборки данных: \"до\" и \"после\" обновления серверов."
   ]
  },
  {
   "cell_type": "markdown",
   "id": "482486b4",
   "metadata": {},
   "source": [
    "**Итог по  проверкам гипотез**\n",
    "\n",
    "В ходе выполнения были рассмотрены и проверены несколько гипотез, связанных с поведением пользователей сервиса и его доходностью.\n",
    "\n",
    "- **Шаг 6.1**: Проверка гипотезы о том, что пользователи с подпиской тратят больше времени на поездки, чем пользователи без подписки. Результаты показали, что нулевая гипотеза была отвергнута: пользователи с подпиской действительно проводят больше времени на поездках, что делает их более выгодными для сервиса.\n",
    "\n",
    "- **Шаг 6.2**: Проверка гипотезы о том, что среднее расстояние, которое проезжают пользователи с подпиской, меньше 3130 метров. Результаты теста не позволили отвергнуть нулевую гипотезу, что означает, что среднее расстояние либо равно, либо превышает это значение.\n",
    "\n",
    "- **Шаг 6.3**: Проверка гипотезы о том, что помесячная выручка от пользователей с подпиской выше, чем от пользователей без подписки. Нулевая гипотеза была отвергнута, что подтверждает более высокую помесячную выручку от пользователей с подпиской, что оправдывает усилия по продвижению подписок среди пользователей.\n",
    "\n",
    "- **Шаг 6.4**: Проверка гипотезы о снижении количества обращений в техподдержку после обновления серверов. Для проверки использован парный t-тест (paired t-test), который позволяет сравнить количество обращений \"до\" и \"после\" обновления серверов. Такой подход позволяет точно оценить влияние обновления на количество обращений.\n"
   ]
  },
  {
   "cell_type": "markdown",
   "id": "f39458a8",
   "metadata": {},
   "source": [
    "<div class=\"alert alert-info\"> <b>Комментарий студента:</b> Чуть чуть измененный итог по проверкам гипотез</div>"
   ]
  },
  {
   "cell_type": "markdown",
   "id": "545b6e13",
   "metadata": {},
   "source": [
    "<div class=\"alert alert-success\">\n",
    "\n",
    "<b>Комментарий ревьюера ✅V2:</b>\n",
    "\n",
    "Да, то что нужно"
   ]
  },
  {
   "cell_type": "markdown",
   "id": "0c9edbe5",
   "metadata": {},
   "source": [
    "**Итог по проверкам гипотез**\n",
    "\n",
    "В ходе выполнения были рассмотрены и проверены несколько гипотез, связанных с поведением пользователей сервиса и его доходностью.\n",
    "\n",
    "- **Шаг 6.1**: Проверка гипотезы о том, что пользователи с подпиской тратят больше времени на поездки, чем пользователи без подписки. Результаты показали, что нулевая гипотеза была отвергнута: пользователи с подпиской действительно проводят больше времени на поездках, что делает их более выгодными для сервиса.\n",
    "\n",
    "- **Шаг 6.2**: Проверка гипотезы о том, что среднее расстояние, которое проезжают пользователи с подпиской, превышает 3130 метров. Результаты теста не позволили отвергнуть нулевую гипотезу, что означает, что среднее расстояние либо равно, либо меньше этого значения.\n",
    "\n",
    "- **Шаг 6.3**: Проверка гипотезы о том, что помесячная выручка от пользователей с подпиской выше, чем от пользователей без подписки. Нулевая гипотеза была отвергнута, что подтверждает более высокую помесячную выручку от пользователей с подпиской, что оправдывает усилия по продвижению подписок среди пользователей.\n",
    "\n",
    "- **Шаг 6.4**: Проверка гипотезы о снижении количества обращений в техподдержку после обновления серверов. Для проверки использован парный t-тест (paired t-test), который позволяет сравнить количество обращений \"до\" и \"после\" обновления серверов. Такой подход позволяет точно оценить влияние обновления на количество обращений."
   ]
  },
  {
   "cell_type": "markdown",
   "id": "4166c77e",
   "metadata": {},
   "source": [
    "## Общий вывод по проекту\n",
    "\n",
    "В ходе выполнения проекта был проведен всесторонний анализ данных сервиса аренды самокатов GoFast, включающий предобработку данных, исследовательский анализ, объединение данных, расчет выручки и проверку гипотез. Вот основные результаты:\n",
    "\n",
    "### 1. Загрузка и исследование данных\n",
    "- **Объем данных**: В проекте проанализированы данные 1565 пользователей и 18068 поездок.\n",
    "- **Профили пользователей**: Большинство пользователей сконцентрированы в городах Пятигорск, Екатеринбург и Ростов-на-Дону.\n",
    "- **Возраст пользователей**: Средний возраст составляет 24.9 года, большинство пользователей находятся в возрастной группе от 22 до 28 лет.\n",
    "- **Продолжительность и расстояние поездок**: Средняя продолжительность поездок составляет 17.8 минут, а среднее расстояние — 3070 метров. Однако в данных наблюдаются аномалии, такие как значения продолжительности, близкие к нулю.\n",
    "\n",
    "### 2. Предобработка данных\n",
    "- **Таблица `users`**: Обнаружены и удалены 31 дубликат, отсутствуют пропуски. После удаления дубликатов индексы были сброшены.\n",
    "- **Таблица `rides`**: Дубликаты и пропуски отсутствуют. Столбец `date` был приведен к типу данных `datetime`, добавлен новый столбец `month`, который отображает месяц поездки.\n",
    "- **Таблица `subscriptions`**: Не потребовала предобработки, так как содержит статическую информацию о типах подписок.\n",
    "### 3. Исследовательский анализ данных\n",
    "- **Распределение пользователей по городам**: Наибольшее количество пользователей сосредоточено в Пятигорске (14.3%), Екатеринбурге (13.3%) и Ростове-на-Дону (12.9%).\n",
    "- **Соотношение подписок**: 45.6% пользователей имеют подписку, 54.4% — используют сервис без подписки.\n",
    "- **Продолжительность и расстояние поездок**: Средняя продолжительность поездок составляет 17.8 минут, среднее расстояние — 3070 метров. Большинство поездок длится от 13.6 до 21.7 минут и охватывает расстояние от 2543 до 3776 метров.\n",
    "\n",
    "### 4. Объединение данных\n",
    "- Данные о пользователях, поездках и подписках были успешно объединены в один датафрейм с 18068 строками. На основе объединенного датафрейма были созданы две группы: пользователи с подпиской и без подписки.\n",
    "- Анализ показал, что пользователи с подпиской (`ultra`) преодолевают большие расстояния и проводят больше времени на поездках, чем пользователи без подписки (`free`).\n",
    "\n",
    "### 5. Подсчёт выручки\n",
    "- Был создан агрегированный датафрейм, который включает суммарное расстояние, количество поездок, продолжительность поездок и выручку по каждому пользователю за каждый месяц.\n",
    "- В датафрейме был добавлен новый столбец `revenue`, который рассчитывает помесячную выручку на основе стоимости подписки, стоимости старта поездок и продолжительности поездок.\n",
    "\n",
    "### 6. Проверка гипотез\n",
    "- **Гипотеза 6.1**: Пользователи с подпиской проводят больше времени на поездках, чем пользователи без подписки. Нулевая гипотеза была отвергнута, что подтверждает большее время поездок у подписчиков.\n",
    "- **Гипотеза 6.2**: Среднее расстояние, которое проезжают пользователи с подпиской, не меньше 3130 метров. Нулевая гипотеза не была отвергнута, что означает, что среднее расстояние равно или превышает это значение.\n",
    "- **Гипотеза 6.3**: Помесячная выручка от пользователей с подпиской выше, чем от пользователей без подписки. Нулевая гипотеза была отвергнута, что подтверждает более высокую выручку от подписчиков.\n",
    "- **Гипотеза 6.4**: Количество обращений в техподдержку снизилось после обновления серверов. Для проверки использован парный t-тест, который позволяет точно оценить влияние обновления на количество обращений.\n",
    "\n",
    "## Заключение\n",
    "Проведенный анализ показал, что пользователи с подпиской являются более выгодными для сервиса GoFast, как по времени использования, так и по выручке. Эти данные подтверждают целесообразность усилий по увеличению доли пользователей с подпиской. Также было выявлено, что среднее расстояние поездок не меньше оптимального значения в 3130 метров, что говорит о высоком уровне использования сервиса. Данные результаты могут быть использованы для дальнейшего развития и улучшения сервиса GoFast."
   ]
  },
  {
   "cell_type": "markdown",
   "id": "b848cb4d",
   "metadata": {},
   "source": [
    "<div class=\"alert alert-info\"> <b>Комментарий студента:</b> Правки в пункт 7.6 \"Проверка гиптоез\" и в Заключение <br>\n",
    "Я не хочу полностью вставлять новый вывод, ибо надо изменить вывод совсем чуть чуть, а если я его занаво вставлю, то он будет занимать много места.</div>\n"
   ]
  },
  {
   "cell_type": "markdown",
   "id": "72b8f148",
   "metadata": {},
   "source": [
    "<div class=\"alert alert-success\">\n",
    "\n",
    "<b>Комментарий ревьюера ✅V2:</b>\n",
    "\n",
    "Сейчас написано хорошо :)"
   ]
  },
  {
   "cell_type": "markdown",
   "id": "eb2da77b",
   "metadata": {},
   "source": [
    "\n",
    "### 6. Проверка гипотез\n",
    "\n",
    "- **Гипотеза 6.2**: Среднее расстояние, которое проезжают пользователи с подпиской, превышает 3130 метров. Нулевая гипотеза не была отвергнута, что означает, что среднее расстояние равно или меньше этого значения.\n",
    "\n",
    "## Заключение\n",
    "Анализ показал, что пользователи с подпиской являются более выгодными для сервиса GoFast как по времени использования, так и по выручке. Эти данные подтверждают целесообразность усилий по увеличению доли пользователей с подпиской. Также выявлено, что среднее расстояние поездок пользователей с подпиской равно или меньше 3130 метров, что требует внимания для оптимизации использования самокатов. Данные результаты могут быть использованы для дальнейшего развития и улучшения сервиса GoFast.\n"
   ]
  },
  {
   "cell_type": "markdown",
   "id": "a3c56631",
   "metadata": {},
   "source": [
    "<div class=\"alert alert-success\">\n",
    "<b>Комментарий ревьюера ✅:</b> \n",
    "    \n",
    "Хороший и структурный вывод, здорово что добавил рекомендации!"
   ]
  },
  {
   "cell_type": "markdown",
   "id": "61213c5e",
   "metadata": {},
   "source": [
    "#### Шаг 7. Распределения"
   ]
  },
  {
   "cell_type": "markdown",
   "id": "d38e9d98",
   "metadata": {},
   "source": [
    "<div class=\"alert alert-success\">\n",
    "<b>Комментарий ревьюера ✅:</b> \n",
    "    \n",
    "Жду работу на повторное ревью :)"
   ]
  },
  {
   "cell_type": "markdown",
   "id": "289d6656",
   "metadata": {},
   "source": [
    "<div style=\"border:solid lightblue 2px; padding: 20px\">\n",
    "\n",
    "##### <b>Общий комментарий ревьюера</b>\n",
    "\n",
    "<div class=\"alert alert-danger\">\n",
    "<b>Комментарий ревьюера ❌:</b> \n",
    "\n",
    "Всё что отмечено такими комментариями нужно исправить, без этого я не смогу принять работу.\n",
    "\n",
    "</div>\n",
    "\n",
    "<div class=\"alert alert-warning\">\n",
    "<b>Комментарий ревьюера ⚠️:</b> Можно принять во внимание жёлтые комментарии, с советами из них твои проекты станут гораздо лучше.\n",
    "\n",
    "</div>\n",
    "\n",
    "<div class=\"alert alert-success\">\n",
    "<b>Комментарий ревьюера ✅:</b> \n",
    "    \n",
    "В целом по проекту впечатление хорошее: \n",
    "\n",
    "- Хорошо интерпретируешь данные!\n",
    "- Хорошо работаешь с визуализацией!\n",
    "- Приятно читать код\n",
    "    \n",
    "На будущее:\n",
    "    \n",
    "- Советую закрепить пункты на которых были выявлены замечания\n",
    "\n",
    "- Жду работу на повторное ревью :)\n",
    "    \n",
    "    </div>"
   ]
  },
  {
   "cell_type": "markdown",
   "id": "b74dadb1",
   "metadata": {},
   "source": [
    "<div class=\"alert alert-success\">\n",
    "\n",
    "<b>Комментарий ревьюера ✅V2:</b>\n",
    "\n",
    "Поздравляю с выполненнной работой!\n",
    "    \n"
   ]
  }
 ],
 "metadata": {
  "ExecuteTimeLog": [
   {
    "duration": 378,
    "start_time": "2024-08-08T00:28:03.558Z"
   },
   {
    "duration": 81,
    "start_time": "2024-08-08T00:28:31.067Z"
   },
   {
    "duration": 256,
    "start_time": "2024-08-08T00:29:41.091Z"
   },
   {
    "duration": 11,
    "start_time": "2024-08-08T00:30:29.755Z"
   },
   {
    "duration": 11,
    "start_time": "2024-08-08T00:30:42.114Z"
   },
   {
    "duration": 66,
    "start_time": "2024-08-08T00:30:58.608Z"
   },
   {
    "duration": 12,
    "start_time": "2024-08-08T00:31:07.165Z"
   },
   {
    "duration": 14,
    "start_time": "2024-08-08T00:31:15.224Z"
   },
   {
    "duration": 11,
    "start_time": "2024-08-08T00:31:23.674Z"
   },
   {
    "duration": 11,
    "start_time": "2024-08-08T00:31:31.356Z"
   },
   {
    "duration": 10,
    "start_time": "2024-08-08T00:31:35.453Z"
   },
   {
    "duration": 11,
    "start_time": "2024-08-08T00:31:41.209Z"
   },
   {
    "duration": 11,
    "start_time": "2024-08-08T00:31:50.122Z"
   },
   {
    "duration": 11,
    "start_time": "2024-08-08T00:32:44.191Z"
   },
   {
    "duration": 11,
    "start_time": "2024-08-08T00:33:08.960Z"
   },
   {
    "duration": 10,
    "start_time": "2024-08-08T00:33:14.386Z"
   },
   {
    "duration": 10,
    "start_time": "2024-08-08T00:33:45.736Z"
   },
   {
    "duration": 10,
    "start_time": "2024-08-08T00:34:01.622Z"
   },
   {
    "duration": 405,
    "start_time": "2024-08-09T22:40:40.801Z"
   },
   {
    "duration": 355,
    "start_time": "2024-08-09T22:40:41.207Z"
   },
   {
    "duration": 13,
    "start_time": "2024-08-09T22:40:41.564Z"
   },
   {
    "duration": 14,
    "start_time": "2024-08-09T22:40:41.579Z"
   },
   {
    "duration": 11,
    "start_time": "2024-08-09T22:40:41.595Z"
   },
   {
    "duration": 64,
    "start_time": "2024-08-09T22:40:41.608Z"
   },
   {
    "duration": 384,
    "start_time": "2024-08-09T22:40:59.412Z"
   },
   {
    "duration": 74,
    "start_time": "2024-08-09T22:41:02.031Z"
   },
   {
    "duration": 14,
    "start_time": "2024-08-09T22:41:02.326Z"
   },
   {
    "duration": 13,
    "start_time": "2024-08-09T22:41:02.611Z"
   },
   {
    "duration": 12,
    "start_time": "2024-08-09T22:41:02.872Z"
   },
   {
    "duration": 17,
    "start_time": "2024-08-09T22:41:03.009Z"
   },
   {
    "duration": 5498,
    "start_time": "2024-08-09T22:41:21.748Z"
   },
   {
    "duration": 5534,
    "start_time": "2024-08-09T22:41:37.832Z"
   },
   {
    "duration": 297,
    "start_time": "2024-08-09T22:42:51.885Z"
   },
   {
    "duration": 221,
    "start_time": "2024-08-09T22:43:03.165Z"
   },
   {
    "duration": 9,
    "start_time": "2024-08-09T22:45:13.106Z"
   },
   {
    "duration": 139,
    "start_time": "2024-08-09T22:45:19.134Z"
   },
   {
    "duration": 135,
    "start_time": "2024-08-09T22:49:13.859Z"
   },
   {
    "duration": 10,
    "start_time": "2024-08-09T22:50:10.031Z"
   },
   {
    "duration": 13,
    "start_time": "2024-08-09T22:50:35.796Z"
   },
   {
    "duration": 116,
    "start_time": "2024-08-09T22:50:41.772Z"
   },
   {
    "duration": 113,
    "start_time": "2024-08-09T22:50:59.710Z"
   },
   {
    "duration": 79,
    "start_time": "2024-08-09T22:51:11.793Z"
   },
   {
    "duration": 137,
    "start_time": "2024-08-09T22:51:23.649Z"
   },
   {
    "duration": 169,
    "start_time": "2024-08-09T22:53:48.512Z"
   },
   {
    "duration": 170,
    "start_time": "2024-08-09T22:53:59.355Z"
   },
   {
    "duration": 175,
    "start_time": "2024-08-09T22:54:31.196Z"
   },
   {
    "duration": 175,
    "start_time": "2024-08-09T22:54:45.155Z"
   },
   {
    "duration": 169,
    "start_time": "2024-08-09T22:54:53.665Z"
   },
   {
    "duration": 181,
    "start_time": "2024-08-09T22:55:07.846Z"
   },
   {
    "duration": 8,
    "start_time": "2024-08-09T22:57:19.742Z"
   },
   {
    "duration": 6,
    "start_time": "2024-08-09T22:57:40.510Z"
   },
   {
    "duration": 5,
    "start_time": "2024-08-09T22:59:00.460Z"
   },
   {
    "duration": 5,
    "start_time": "2024-08-09T22:59:07.626Z"
   },
   {
    "duration": 8,
    "start_time": "2024-08-09T23:01:17.845Z"
   },
   {
    "duration": 12,
    "start_time": "2024-08-09T23:01:33.572Z"
   },
   {
    "duration": 11,
    "start_time": "2024-08-09T23:02:43.910Z"
   },
   {
    "duration": 7,
    "start_time": "2024-08-09T23:03:24.284Z"
   },
   {
    "duration": 9,
    "start_time": "2024-08-09T23:03:42.258Z"
   },
   {
    "duration": 8,
    "start_time": "2024-08-09T23:04:00.490Z"
   },
   {
    "duration": 8,
    "start_time": "2024-08-09T23:04:25.878Z"
   },
   {
    "duration": 8,
    "start_time": "2024-08-09T23:04:26.454Z"
   },
   {
    "duration": 8,
    "start_time": "2024-08-09T23:05:01.623Z"
   },
   {
    "duration": 10,
    "start_time": "2024-08-09T23:06:24.678Z"
   },
   {
    "duration": 20,
    "start_time": "2024-08-09T23:06:41.249Z"
   },
   {
    "duration": 8,
    "start_time": "2024-08-09T23:07:56.074Z"
   },
   {
    "duration": 631,
    "start_time": "2024-08-09T23:08:57.815Z"
   },
   {
    "duration": 73,
    "start_time": "2024-08-09T23:08:58.448Z"
   },
   {
    "duration": 13,
    "start_time": "2024-08-09T23:08:58.523Z"
   },
   {
    "duration": 18,
    "start_time": "2024-08-09T23:08:58.538Z"
   },
   {
    "duration": 11,
    "start_time": "2024-08-09T23:08:58.559Z"
   },
   {
    "duration": 164,
    "start_time": "2024-08-09T23:08:58.572Z"
   },
   {
    "duration": 158,
    "start_time": "2024-08-09T23:08:58.738Z"
   },
   {
    "duration": 105,
    "start_time": "2024-08-09T23:08:58.898Z"
   },
   {
    "duration": 189,
    "start_time": "2024-08-09T23:08:59.005Z"
   },
   {
    "duration": 254,
    "start_time": "2024-08-09T23:08:59.197Z"
   },
   {
    "duration": 8,
    "start_time": "2024-08-09T23:08:59.453Z"
   },
   {
    "duration": 23,
    "start_time": "2024-08-09T23:08:59.463Z"
   },
   {
    "duration": 16,
    "start_time": "2024-08-09T23:08:59.487Z"
   },
   {
    "duration": 7,
    "start_time": "2024-08-09T23:08:59.506Z"
   },
   {
    "duration": 12,
    "start_time": "2024-08-09T23:08:59.515Z"
   },
   {
    "duration": 27,
    "start_time": "2024-08-09T23:08:59.528Z"
   },
   {
    "duration": 9,
    "start_time": "2024-08-09T23:08:59.556Z"
   },
   {
    "duration": 143,
    "start_time": "2024-08-09T23:15:46.757Z"
   },
   {
    "duration": 141,
    "start_time": "2024-08-09T23:17:42.178Z"
   },
   {
    "duration": 92,
    "start_time": "2024-08-09T23:18:56.862Z"
   },
   {
    "duration": 212,
    "start_time": "2024-08-09T23:21:17.471Z"
   },
   {
    "duration": 152,
    "start_time": "2024-08-09T23:21:22.108Z"
   },
   {
    "duration": 139,
    "start_time": "2024-08-09T23:22:05.034Z"
   },
   {
    "duration": 133,
    "start_time": "2024-08-09T23:22:13.807Z"
   },
   {
    "duration": 269,
    "start_time": "2024-08-09T23:22:36.476Z"
   },
   {
    "duration": 136,
    "start_time": "2024-08-09T23:22:56.874Z"
   },
   {
    "duration": 52,
    "start_time": "2024-08-09T23:23:14.109Z"
   },
   {
    "duration": 147,
    "start_time": "2024-08-09T23:23:24.492Z"
   },
   {
    "duration": 257,
    "start_time": "2024-08-09T23:23:37.156Z"
   },
   {
    "duration": 5,
    "start_time": "2024-08-09T23:24:02.420Z"
   },
   {
    "duration": 4,
    "start_time": "2024-08-09T23:24:19.182Z"
   },
   {
    "duration": 145,
    "start_time": "2024-08-09T23:24:53.513Z"
   },
   {
    "duration": 151,
    "start_time": "2024-08-09T23:25:15.660Z"
   },
   {
    "duration": 161,
    "start_time": "2024-08-09T23:28:58.642Z"
   },
   {
    "duration": 175,
    "start_time": "2024-08-09T23:29:22.603Z"
   },
   {
    "duration": 193,
    "start_time": "2024-08-09T23:31:39.363Z"
   },
   {
    "duration": 8,
    "start_time": "2024-08-09T23:34:14.799Z"
   },
   {
    "duration": 8,
    "start_time": "2024-08-09T23:34:22.730Z"
   },
   {
    "duration": 51,
    "start_time": "2024-08-11T14:16:55.591Z"
   },
   {
    "duration": 855,
    "start_time": "2024-08-11T14:17:00.032Z"
   },
   {
    "duration": 308,
    "start_time": "2024-08-11T14:17:00.890Z"
   },
   {
    "duration": 17,
    "start_time": "2024-08-11T14:17:01.199Z"
   },
   {
    "duration": 53,
    "start_time": "2024-08-11T14:17:01.218Z"
   },
   {
    "duration": 12,
    "start_time": "2024-08-11T14:17:01.272Z"
   },
   {
    "duration": 181,
    "start_time": "2024-08-11T14:17:01.286Z"
   },
   {
    "duration": 157,
    "start_time": "2024-08-11T14:17:01.469Z"
   },
   {
    "duration": 109,
    "start_time": "2024-08-11T14:17:01.627Z"
   },
   {
    "duration": 195,
    "start_time": "2024-08-11T14:17:01.738Z"
   },
   {
    "duration": 251,
    "start_time": "2024-08-11T14:17:01.935Z"
   },
   {
    "duration": 7,
    "start_time": "2024-08-11T14:17:02.187Z"
   },
   {
    "duration": 97,
    "start_time": "2024-08-11T14:17:02.195Z"
   },
   {
    "duration": 19,
    "start_time": "2024-08-11T14:17:02.293Z"
   },
   {
    "duration": 7,
    "start_time": "2024-08-11T14:17:02.314Z"
   },
   {
    "duration": 19,
    "start_time": "2024-08-11T14:17:02.323Z"
   },
   {
    "duration": 15,
    "start_time": "2024-08-11T14:17:02.343Z"
   },
   {
    "duration": 43,
    "start_time": "2024-08-11T14:17:02.359Z"
   },
   {
    "duration": 165,
    "start_time": "2024-08-11T14:17:02.404Z"
   },
   {
    "duration": 107,
    "start_time": "2024-08-11T14:17:02.571Z"
   },
   {
    "duration": 185,
    "start_time": "2024-08-11T14:17:02.679Z"
   },
   {
    "duration": 194,
    "start_time": "2024-08-11T14:17:02.865Z"
   },
   {
    "duration": 214,
    "start_time": "2024-08-11T14:17:03.061Z"
   },
   {
    "duration": 20,
    "start_time": "2024-08-11T14:17:03.277Z"
   },
   {
    "duration": 25,
    "start_time": "2024-08-11T14:17:37.320Z"
   },
   {
    "duration": 24,
    "start_time": "2024-08-11T14:17:49.476Z"
   },
   {
    "duration": 15,
    "start_time": "2024-08-11T14:18:01.832Z"
   },
   {
    "duration": 25,
    "start_time": "2024-08-11T14:18:11.492Z"
   },
   {
    "duration": 3,
    "start_time": "2024-08-11T14:18:32.028Z"
   },
   {
    "duration": 8,
    "start_time": "2024-08-11T14:18:45.187Z"
   },
   {
    "duration": 3,
    "start_time": "2024-08-11T14:18:50.036Z"
   },
   {
    "duration": 7,
    "start_time": "2024-08-11T14:19:54.194Z"
   },
   {
    "duration": 888,
    "start_time": "2024-08-11T14:20:32.028Z"
   },
   {
    "duration": 9,
    "start_time": "2024-08-11T14:20:44.248Z"
   },
   {
    "duration": 12,
    "start_time": "2024-08-11T14:20:53.325Z"
   },
   {
    "duration": 10,
    "start_time": "2024-08-11T14:21:29.024Z"
   },
   {
    "duration": 9,
    "start_time": "2024-08-11T14:21:52.070Z"
   },
   {
    "duration": 13,
    "start_time": "2024-08-11T14:22:07.971Z"
   },
   {
    "duration": 4,
    "start_time": "2024-08-11T14:22:22.832Z"
   },
   {
    "duration": 4,
    "start_time": "2024-08-11T14:22:30.381Z"
   },
   {
    "duration": 11,
    "start_time": "2024-08-11T14:22:52.300Z"
   },
   {
    "duration": 12,
    "start_time": "2024-08-11T14:23:01.888Z"
   },
   {
    "duration": 5,
    "start_time": "2024-08-11T14:24:00.095Z"
   },
   {
    "duration": 537,
    "start_time": "2024-08-11T14:25:36.350Z"
   },
   {
    "duration": 274,
    "start_time": "2024-08-11T14:26:40.106Z"
   },
   {
    "duration": 577,
    "start_time": "2024-08-11T14:26:51.234Z"
   },
   {
    "duration": 9,
    "start_time": "2024-08-11T14:27:21.649Z"
   },
   {
    "duration": 8,
    "start_time": "2024-08-11T14:27:58.386Z"
   },
   {
    "duration": 8,
    "start_time": "2024-08-11T14:27:58.999Z"
   },
   {
    "duration": 8,
    "start_time": "2024-08-11T14:27:59.597Z"
   },
   {
    "duration": 8,
    "start_time": "2024-08-11T14:28:00.194Z"
   },
   {
    "duration": 3,
    "start_time": "2024-08-11T14:33:32.030Z"
   },
   {
    "duration": 67,
    "start_time": "2024-08-11T14:36:54.646Z"
   },
   {
    "duration": 48,
    "start_time": "2024-08-11T14:37:52.019Z"
   },
   {
    "duration": 44,
    "start_time": "2024-08-11T14:38:21.416Z"
   },
   {
    "duration": 57,
    "start_time": "2024-08-11T14:38:46.916Z"
   },
   {
    "duration": 47,
    "start_time": "2024-08-11T14:38:54.612Z"
   },
   {
    "duration": 49,
    "start_time": "2024-08-11T14:39:03.696Z"
   },
   {
    "duration": 49,
    "start_time": "2024-08-11T14:39:14.431Z"
   },
   {
    "duration": 48,
    "start_time": "2024-08-11T14:39:20.410Z"
   },
   {
    "duration": 16,
    "start_time": "2024-08-11T14:40:36.556Z"
   },
   {
    "duration": 48,
    "start_time": "2024-08-11T14:41:35.549Z"
   },
   {
    "duration": 16,
    "start_time": "2024-08-11T14:41:43.627Z"
   },
   {
    "duration": 49,
    "start_time": "2024-08-11T14:46:43.781Z"
   },
   {
    "duration": 51,
    "start_time": "2024-08-11T14:46:55.234Z"
   },
   {
    "duration": 24,
    "start_time": "2024-08-11T14:47:06.216Z"
   },
   {
    "duration": 51,
    "start_time": "2024-08-11T14:47:40.968Z"
   },
   {
    "duration": 17,
    "start_time": "2024-08-11T14:47:41.220Z"
   },
   {
    "duration": 426,
    "start_time": "2024-08-11T14:51:35.142Z"
   },
   {
    "duration": 18,
    "start_time": "2024-08-11T14:51:47.198Z"
   },
   {
    "duration": 35,
    "start_time": "2024-08-11T14:52:19.961Z"
   },
   {
    "duration": 6,
    "start_time": "2024-08-11T14:52:28.560Z"
   },
   {
    "duration": 12,
    "start_time": "2024-08-11T14:52:36.092Z"
   },
   {
    "duration": 12,
    "start_time": "2024-08-11T14:53:21.141Z"
   },
   {
    "duration": 11,
    "start_time": "2024-08-11T14:53:31.322Z"
   },
   {
    "duration": 11,
    "start_time": "2024-08-11T14:53:36.982Z"
   },
   {
    "duration": 11,
    "start_time": "2024-08-11T14:53:40.952Z"
   },
   {
    "duration": 10,
    "start_time": "2024-08-11T14:55:41.315Z"
   },
   {
    "duration": 5,
    "start_time": "2024-08-11T14:55:48.675Z"
   },
   {
    "duration": 12,
    "start_time": "2024-08-11T14:56:21.195Z"
   },
   {
    "duration": 11,
    "start_time": "2024-08-11T14:56:34.940Z"
   },
   {
    "duration": 7,
    "start_time": "2024-08-11T15:01:08.831Z"
   },
   {
    "duration": 6,
    "start_time": "2024-08-11T15:06:13.323Z"
   },
   {
    "duration": 6,
    "start_time": "2024-08-11T15:07:35.500Z"
   },
   {
    "duration": 12,
    "start_time": "2024-08-11T15:07:51.588Z"
   },
   {
    "duration": 6,
    "start_time": "2024-08-11T15:07:56.381Z"
   },
   {
    "duration": 7,
    "start_time": "2024-08-11T15:09:22.116Z"
   },
   {
    "duration": 11,
    "start_time": "2024-08-11T15:09:45.616Z"
   },
   {
    "duration": 5,
    "start_time": "2024-08-11T15:09:50.537Z"
   },
   {
    "duration": 5,
    "start_time": "2024-08-11T15:09:56.746Z"
   },
   {
    "duration": 5,
    "start_time": "2024-08-11T15:10:02.171Z"
   },
   {
    "duration": 875,
    "start_time": "2024-08-11T15:13:57.826Z"
   },
   {
    "duration": 12,
    "start_time": "2024-08-11T15:14:23.960Z"
   },
   {
    "duration": 13,
    "start_time": "2024-08-11T15:16:15.353Z"
   },
   {
    "duration": 7,
    "start_time": "2024-08-11T15:16:29.061Z"
   },
   {
    "duration": 9,
    "start_time": "2024-08-11T15:16:46.377Z"
   },
   {
    "duration": 49,
    "start_time": "2024-08-12T14:02:39.749Z"
   },
   {
    "duration": 1434,
    "start_time": "2024-08-12T14:04:23.204Z"
   },
   {
    "duration": 393,
    "start_time": "2024-08-12T14:04:24.640Z"
   },
   {
    "duration": 15,
    "start_time": "2024-08-12T14:04:25.035Z"
   },
   {
    "duration": 19,
    "start_time": "2024-08-12T14:04:25.053Z"
   },
   {
    "duration": 12,
    "start_time": "2024-08-12T14:04:25.075Z"
   },
   {
    "duration": 189,
    "start_time": "2024-08-12T14:04:25.089Z"
   },
   {
    "duration": 158,
    "start_time": "2024-08-12T14:04:25.280Z"
   },
   {
    "duration": 112,
    "start_time": "2024-08-12T14:04:25.440Z"
   },
   {
    "duration": 223,
    "start_time": "2024-08-12T14:04:25.554Z"
   },
   {
    "duration": 220,
    "start_time": "2024-08-12T14:04:25.779Z"
   },
   {
    "duration": 9,
    "start_time": "2024-08-12T14:04:26.000Z"
   },
   {
    "duration": 11,
    "start_time": "2024-08-12T14:04:26.010Z"
   },
   {
    "duration": 8,
    "start_time": "2024-08-12T14:04:26.022Z"
   },
   {
    "duration": 20,
    "start_time": "2024-08-12T14:04:26.033Z"
   },
   {
    "duration": 19,
    "start_time": "2024-08-12T14:04:26.055Z"
   },
   {
    "duration": 15,
    "start_time": "2024-08-12T14:04:26.078Z"
   },
   {
    "duration": 8,
    "start_time": "2024-08-12T14:04:26.095Z"
   },
   {
    "duration": 204,
    "start_time": "2024-08-12T14:04:26.104Z"
   },
   {
    "duration": 103,
    "start_time": "2024-08-12T14:04:26.310Z"
   },
   {
    "duration": 193,
    "start_time": "2024-08-12T14:04:26.415Z"
   },
   {
    "duration": 205,
    "start_time": "2024-08-12T14:04:26.610Z"
   },
   {
    "duration": 298,
    "start_time": "2024-08-12T14:04:26.817Z"
   },
   {
    "duration": 26,
    "start_time": "2024-08-12T14:04:27.117Z"
   },
   {
    "duration": 3,
    "start_time": "2024-08-12T14:04:27.153Z"
   },
   {
    "duration": 13,
    "start_time": "2024-08-12T14:04:27.158Z"
   },
   {
    "duration": 122,
    "start_time": "2024-08-12T14:04:27.175Z"
   },
   {
    "duration": 0,
    "start_time": "2024-08-12T14:04:27.298Z"
   },
   {
    "duration": 0,
    "start_time": "2024-08-12T14:04:27.300Z"
   },
   {
    "duration": 0,
    "start_time": "2024-08-12T14:04:27.301Z"
   },
   {
    "duration": 0,
    "start_time": "2024-08-12T14:04:27.302Z"
   },
   {
    "duration": 0,
    "start_time": "2024-08-12T14:04:27.303Z"
   },
   {
    "duration": 0,
    "start_time": "2024-08-12T14:04:27.304Z"
   },
   {
    "duration": 0,
    "start_time": "2024-08-12T14:04:27.306Z"
   },
   {
    "duration": 0,
    "start_time": "2024-08-12T14:04:27.307Z"
   },
   {
    "duration": 0,
    "start_time": "2024-08-12T14:04:27.307Z"
   },
   {
    "duration": 0,
    "start_time": "2024-08-12T14:04:27.308Z"
   },
   {
    "duration": 0,
    "start_time": "2024-08-12T14:04:27.309Z"
   },
   {
    "duration": 45,
    "start_time": "2024-08-12T14:06:21.081Z"
   },
   {
    "duration": 9,
    "start_time": "2024-08-12T14:06:44.816Z"
   },
   {
    "duration": 65,
    "start_time": "2024-08-12T14:07:08.652Z"
   },
   {
    "duration": 83,
    "start_time": "2024-08-12T14:15:06.514Z"
   },
   {
    "duration": 8,
    "start_time": "2024-08-12T14:15:28.175Z"
   },
   {
    "duration": 11,
    "start_time": "2024-08-12T14:15:33.560Z"
   },
   {
    "duration": 6,
    "start_time": "2024-08-12T14:15:40.079Z"
   },
   {
    "duration": 11,
    "start_time": "2024-08-12T14:16:13.992Z"
   },
   {
    "duration": 6,
    "start_time": "2024-08-12T14:16:44.216Z"
   },
   {
    "duration": 10,
    "start_time": "2024-08-12T14:17:17.684Z"
   },
   {
    "duration": 1115,
    "start_time": "2024-08-12T14:19:38.612Z"
   },
   {
    "duration": 81,
    "start_time": "2024-08-12T14:19:39.729Z"
   },
   {
    "duration": 15,
    "start_time": "2024-08-12T14:19:39.812Z"
   },
   {
    "duration": 17,
    "start_time": "2024-08-12T14:19:39.829Z"
   },
   {
    "duration": 15,
    "start_time": "2024-08-12T14:19:39.848Z"
   },
   {
    "duration": 41,
    "start_time": "2024-08-12T14:19:39.864Z"
   },
   {
    "duration": 68,
    "start_time": "2024-08-12T14:19:39.907Z"
   },
   {
    "duration": 169,
    "start_time": "2024-08-12T14:19:39.977Z"
   },
   {
    "duration": 175,
    "start_time": "2024-08-12T14:19:40.151Z"
   },
   {
    "duration": 108,
    "start_time": "2024-08-12T14:19:40.328Z"
   },
   {
    "duration": 202,
    "start_time": "2024-08-12T14:19:40.438Z"
   },
   {
    "duration": 213,
    "start_time": "2024-08-12T14:19:40.642Z"
   },
   {
    "duration": 6,
    "start_time": "2024-08-12T14:19:40.857Z"
   },
   {
    "duration": 59,
    "start_time": "2024-08-12T14:19:40.869Z"
   },
   {
    "duration": 8,
    "start_time": "2024-08-12T14:19:40.930Z"
   },
   {
    "duration": 6,
    "start_time": "2024-08-12T14:19:40.940Z"
   },
   {
    "duration": 34,
    "start_time": "2024-08-12T14:19:40.948Z"
   },
   {
    "duration": 16,
    "start_time": "2024-08-12T14:19:40.984Z"
   },
   {
    "duration": 64,
    "start_time": "2024-08-12T14:19:41.002Z"
   },
   {
    "duration": 241,
    "start_time": "2024-08-12T14:19:41.068Z"
   },
   {
    "duration": 119,
    "start_time": "2024-08-12T14:19:41.310Z"
   },
   {
    "duration": 183,
    "start_time": "2024-08-12T14:19:41.431Z"
   },
   {
    "duration": 219,
    "start_time": "2024-08-12T14:19:41.617Z"
   },
   {
    "duration": 304,
    "start_time": "2024-08-12T14:19:41.838Z"
   },
   {
    "duration": 29,
    "start_time": "2024-08-12T14:19:42.144Z"
   },
   {
    "duration": 3,
    "start_time": "2024-08-12T14:19:42.175Z"
   },
   {
    "duration": 22,
    "start_time": "2024-08-12T14:19:42.179Z"
   },
   {
    "duration": 118,
    "start_time": "2024-08-12T14:19:42.203Z"
   },
   {
    "duration": 0,
    "start_time": "2024-08-12T14:19:42.324Z"
   },
   {
    "duration": 0,
    "start_time": "2024-08-12T14:19:42.325Z"
   },
   {
    "duration": 0,
    "start_time": "2024-08-12T14:19:42.327Z"
   },
   {
    "duration": 0,
    "start_time": "2024-08-12T14:19:42.328Z"
   },
   {
    "duration": 0,
    "start_time": "2024-08-12T14:19:42.330Z"
   },
   {
    "duration": 0,
    "start_time": "2024-08-12T14:19:42.331Z"
   },
   {
    "duration": 0,
    "start_time": "2024-08-12T14:19:42.333Z"
   },
   {
    "duration": 0,
    "start_time": "2024-08-12T14:19:42.334Z"
   },
   {
    "duration": 0,
    "start_time": "2024-08-12T14:19:42.353Z"
   },
   {
    "duration": 0,
    "start_time": "2024-08-12T14:19:42.354Z"
   },
   {
    "duration": 0,
    "start_time": "2024-08-12T14:19:42.355Z"
   },
   {
    "duration": 13,
    "start_time": "2024-08-12T14:21:11.161Z"
   },
   {
    "duration": 8,
    "start_time": "2024-08-12T14:21:12.031Z"
   },
   {
    "duration": 4,
    "start_time": "2024-08-12T14:21:13.267Z"
   },
   {
    "duration": 527,
    "start_time": "2024-08-12T14:21:18.812Z"
   },
   {
    "duration": 8,
    "start_time": "2024-08-12T14:21:23.220Z"
   },
   {
    "duration": 8,
    "start_time": "2024-08-12T14:21:24.117Z"
   },
   {
    "duration": 8,
    "start_time": "2024-08-12T14:21:24.516Z"
   },
   {
    "duration": 8,
    "start_time": "2024-08-12T14:21:24.951Z"
   },
   {
    "duration": 52,
    "start_time": "2024-08-12T14:21:50.167Z"
   },
   {
    "duration": 7,
    "start_time": "2024-08-12T14:22:07.831Z"
   },
   {
    "duration": 47,
    "start_time": "2024-08-12T14:22:46.742Z"
   },
   {
    "duration": 6,
    "start_time": "2024-08-12T14:23:05.888Z"
   },
   {
    "duration": 6,
    "start_time": "2024-08-12T14:26:54.229Z"
   },
   {
    "duration": 5,
    "start_time": "2024-08-12T14:27:20.924Z"
   },
   {
    "duration": 6,
    "start_time": "2024-08-12T14:27:49.613Z"
   },
   {
    "duration": 5,
    "start_time": "2024-08-12T14:27:57.541Z"
   },
   {
    "duration": 5,
    "start_time": "2024-08-12T14:28:08.131Z"
   },
   {
    "duration": 5,
    "start_time": "2024-08-12T14:28:28.529Z"
   },
   {
    "duration": 70,
    "start_time": "2024-08-12T14:31:45.969Z"
   },
   {
    "duration": 49,
    "start_time": "2024-08-12T14:34:21.396Z"
   },
   {
    "duration": 1410,
    "start_time": "2024-08-12T20:18:47.889Z"
   },
   {
    "duration": 356,
    "start_time": "2024-08-12T20:18:49.301Z"
   },
   {
    "duration": 15,
    "start_time": "2024-08-12T20:18:49.659Z"
   },
   {
    "duration": 7,
    "start_time": "2024-08-12T20:18:49.676Z"
   },
   {
    "duration": 19,
    "start_time": "2024-08-12T20:18:49.685Z"
   },
   {
    "duration": 8,
    "start_time": "2024-08-12T20:18:49.705Z"
   },
   {
    "duration": 11,
    "start_time": "2024-08-12T20:18:49.714Z"
   },
   {
    "duration": 186,
    "start_time": "2024-08-12T20:18:49.727Z"
   },
   {
    "duration": 196,
    "start_time": "2024-08-12T20:18:49.914Z"
   },
   {
    "duration": 100,
    "start_time": "2024-08-12T20:18:50.112Z"
   },
   {
    "duration": 195,
    "start_time": "2024-08-12T20:18:50.214Z"
   },
   {
    "duration": 209,
    "start_time": "2024-08-12T20:18:50.410Z"
   },
   {
    "duration": 6,
    "start_time": "2024-08-12T20:18:50.621Z"
   },
   {
    "duration": 46,
    "start_time": "2024-08-12T20:18:50.632Z"
   },
   {
    "duration": 28,
    "start_time": "2024-08-12T20:18:50.680Z"
   },
   {
    "duration": 10,
    "start_time": "2024-08-12T20:18:50.710Z"
   },
   {
    "duration": 9,
    "start_time": "2024-08-12T20:18:50.722Z"
   },
   {
    "duration": 15,
    "start_time": "2024-08-12T20:18:50.733Z"
   },
   {
    "duration": 9,
    "start_time": "2024-08-12T20:18:50.750Z"
   },
   {
    "duration": 181,
    "start_time": "2024-08-12T20:18:50.761Z"
   },
   {
    "duration": 109,
    "start_time": "2024-08-12T20:18:50.943Z"
   },
   {
    "duration": 178,
    "start_time": "2024-08-12T20:18:51.054Z"
   },
   {
    "duration": 214,
    "start_time": "2024-08-12T20:18:51.234Z"
   },
   {
    "duration": 294,
    "start_time": "2024-08-12T20:18:51.450Z"
   },
   {
    "duration": 25,
    "start_time": "2024-08-12T20:18:51.745Z"
   },
   {
    "duration": 3,
    "start_time": "2024-08-12T20:18:51.772Z"
   },
   {
    "duration": 32,
    "start_time": "2024-08-12T20:18:51.777Z"
   },
   {
    "duration": 9,
    "start_time": "2024-08-12T20:18:51.811Z"
   },
   {
    "duration": 3,
    "start_time": "2024-08-12T20:18:51.822Z"
   },
   {
    "duration": 551,
    "start_time": "2024-08-12T20:18:51.827Z"
   },
   {
    "duration": 9,
    "start_time": "2024-08-12T20:18:52.380Z"
   },
   {
    "duration": 24,
    "start_time": "2024-08-12T20:18:52.390Z"
   },
   {
    "duration": 9,
    "start_time": "2024-08-12T20:18:52.415Z"
   },
   {
    "duration": 7,
    "start_time": "2024-08-12T20:18:52.425Z"
   },
   {
    "duration": 74,
    "start_time": "2024-08-12T20:18:52.434Z"
   },
   {
    "duration": 6,
    "start_time": "2024-08-12T20:18:52.510Z"
   },
   {
    "duration": 24,
    "start_time": "2024-08-12T20:18:52.517Z"
   },
   {
    "duration": 5,
    "start_time": "2024-08-12T20:18:52.543Z"
   },
   {
    "duration": 21,
    "start_time": "2024-08-12T20:18:52.550Z"
   },
   {
    "duration": 44,
    "start_time": "2024-08-12T20:18:52.573Z"
   },
   {
    "duration": 11,
    "start_time": "2024-08-12T20:18:52.621Z"
   }
  ],
  "kernelspec": {
   "display_name": "Python 3 (ipykernel)",
   "language": "python",
   "name": "python3"
  },
  "language_info": {
   "codemirror_mode": {
    "name": "ipython",
    "version": 3
   },
   "file_extension": ".py",
   "mimetype": "text/x-python",
   "name": "python",
   "nbconvert_exporter": "python",
   "pygments_lexer": "ipython3",
   "version": "3.9.5"
  },
  "toc": {
   "base_numbering": 1,
   "nav_menu": {},
   "number_sections": true,
   "sideBar": true,
   "skip_h1_title": true,
   "title_cell": "Table of Contents",
   "title_sidebar": "Contents",
   "toc_cell": false,
   "toc_position": {},
   "toc_section_display": true,
   "toc_window_display": false
  }
 },
 "nbformat": 4,
 "nbformat_minor": 5
}
